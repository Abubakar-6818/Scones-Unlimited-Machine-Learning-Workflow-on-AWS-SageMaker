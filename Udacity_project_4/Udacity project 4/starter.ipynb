{
 "cells": [
  {
   "cell_type": "markdown",
   "metadata": {},
   "source": [
    "# Deploy and monitor a machine learning workflow for Image Classification"
   ]
  },
  {
   "cell_type": "markdown",
   "metadata": {},
   "source": [
    "## Setting up this notebook\n",
    "\n",
    "Notes about the instance size and kernel setup: this notebook has been tested on\n",
    "\n",
    "1. The `Python 3 (Data Science)` kernel\n",
    "2. The `ml.t3.medium` Sagemaker notebook instance\n",
    "\n",
    "## Data Staging\n",
    "\n",
    "We'll use a sample dataset called CIFAR to simulate the challenges Scones Unlimited are facing in Image Classification. In order to start working with CIFAR we'll need to:\n",
    "\n",
    "1. Extract the data from a hosting service\n",
    "2. Transform it into a usable shape and format\n",
    "3. Load it into a production system\n",
    "\n",
    "In other words, we're going to do some simple ETL!\n",
    "\n",
    "### 1. Extract the data from the hosting service\n",
    "\n",
    "In the cell below, define a function `extract_cifar_data` that extracts python version of the CIFAR-100 dataset. The CIFAR dataaset is open source and generously hosted by the University of Toronto at: https://www.cs.toronto.edu/~kriz/cifar-100-python.tar.gz "
   ]
  },
  {
   "cell_type": "code",
   "execution_count": 2,
   "metadata": {
    "tags": []
   },
   "outputs": [],
   "source": [
    "import requests\n",
    "\n",
    "def extract_cifar_data(url, filename=\"cifar.tar.gz\"):\n",
    "    \"\"\"A function for extracting the CIFAR-100 dataset and storing it as a gzipped file\n",
    "    \n",
    "    Arguments:\n",
    "    url      -- the URL where the dataset is hosted\n",
    "    filename -- the full path where the dataset will be written\n",
    "    \n",
    "    \"\"\"\n",
    "    \n",
    "    # Todo: request the data from the data url\n",
    "    # Hint: use `requests.get` method\n",
    "    r = requests.get(url)\n",
    "    with open(filename, \"wb\") as file_context:\n",
    "        file_context.write(r.content)\n",
    "    return"
   ]
  },
  {
   "cell_type": "markdown",
   "metadata": {},
   "source": [
    "Let's test it out! Run the following cell and check whether a new file `cifar.tar.gz` is created in the file explorer."
   ]
  },
  {
   "cell_type": "code",
   "execution_count": 3,
   "metadata": {
    "tags": []
   },
   "outputs": [],
   "source": [
    "extract_cifar_data(\"https://www.cs.toronto.edu/~kriz/cifar-100-python.tar.gz\")     "
   ]
  },
  {
   "cell_type": "markdown",
   "metadata": {},
   "source": [
    "### 2. Transform the data into a usable shape and format\n",
    "\n",
    "Clearly, distributing the data as a gzipped archive makes sense for the hosting service! It saves on bandwidth, storage, and it's a widely-used archive format. In fact, it's so widely used that the Python community ships a utility for working with them, `tarfile`, as part of its Standard Library. Execute the following cell to decompress your extracted dataset:"
   ]
  },
  {
   "cell_type": "code",
   "execution_count": 4,
   "metadata": {
    "tags": []
   },
   "outputs": [],
   "source": [
    "import tarfile\n",
    "\n",
    "with tarfile.open(\"cifar.tar.gz\", \"r:gz\") as tar:\n",
    "    tar.extractall()"
   ]
  },
  {
   "cell_type": "markdown",
   "metadata": {},
   "source": [
    "A new folder `cifar-100-python` should be created, containing `meta`, `test`, and `train` files. These files are `pickles` and the [CIFAR homepage](https://www.cs.toronto.edu/~kriz/cifar.html) provides a simple script that can be used to load them. We've adapted the script below for you to run:"
   ]
  },
  {
   "cell_type": "code",
   "execution_count": 5,
   "metadata": {
    "tags": []
   },
   "outputs": [],
   "source": [
    "import pickle\n",
    "\n",
    "with open(\"./cifar-100-python/meta\", \"rb\") as f:\n",
    "    dataset_meta = pickle.load(f, encoding='bytes')\n",
    "\n",
    "with open(\"./cifar-100-python/test\", \"rb\") as f:\n",
    "    dataset_test = pickle.load(f, encoding='bytes')\n",
    "\n",
    "with open(\"./cifar-100-python/train\", \"rb\") as f:\n",
    "    dataset_train = pickle.load(f, encoding='bytes')"
   ]
  },
  {
   "cell_type": "code",
   "execution_count": 6,
   "metadata": {
    "tags": []
   },
   "outputs": [
    {
     "data": {
      "text/plain": [
       "dict_keys([b'filenames', b'batch_label', b'fine_labels', b'coarse_labels', b'data'])"
      ]
     },
     "execution_count": 6,
     "metadata": {},
     "output_type": "execute_result"
    }
   ],
   "source": [
    "# Feel free to explore the datasets\n",
    "\n",
    "dataset_train.keys()"
   ]
  },
  {
   "cell_type": "markdown",
   "metadata": {},
   "source": [
    "As documented on the homepage, `b'data'` contains rows of 3073 unsigned integers, representing three channels (red, green, and blue) for one 32x32 pixel image per row."
   ]
  },
  {
   "cell_type": "code",
   "execution_count": 7,
   "metadata": {
    "tags": []
   },
   "outputs": [
    {
     "data": {
      "text/plain": [
       "3072"
      ]
     },
     "execution_count": 7,
     "metadata": {},
     "output_type": "execute_result"
    }
   ],
   "source": [
    "32*32*3"
   ]
  },
  {
   "cell_type": "markdown",
   "metadata": {},
   "source": [
    "For a simple gut-check, let's transform one of our images. Each 1024 items in a row is a channel (red, green, then blue). Each 32 items in the channel are a row in the 32x32 image. Using python, we can stack these channels into a 32x32x3 array, and save it as a PNG file:"
   ]
  },
  {
   "cell_type": "code",
   "execution_count": 8,
   "metadata": {
    "tags": []
   },
   "outputs": [],
   "source": [
    "import numpy as np\n",
    "\n",
    "# Each 1024 in a row is a channel (red, green, then blue)\n",
    "row = dataset_train[b'data'][0]\n",
    "red, green, blue = row[0:1024], row[1024:2048], row[2048:]\n",
    "\n",
    "# Each 32 items in the channel are a row in the 32x32 image\n",
    "red = red.reshape(32,32)\n",
    "green = green.reshape(32,32)\n",
    "blue = blue.reshape(32,32)\n",
    "\n",
    "# Combine the channels into a 32x32x3 image!\n",
    "combined = np.dstack((red,green,blue))"
   ]
  },
  {
   "cell_type": "code",
   "execution_count": null,
   "metadata": {
    "tags": []
   },
   "outputs": [],
   "source": [
    "print(dataset_train)"
   ]
  },
  {
   "cell_type": "markdown",
   "metadata": {},
   "source": [
    "For a more concise version, consider the following:"
   ]
  },
  {
   "cell_type": "code",
   "execution_count": 9,
   "metadata": {
    "tags": []
   },
   "outputs": [],
   "source": [
    "# All in one:\n",
    "test_image = np.dstack((\n",
    "    row[0:1024].reshape(32,32),\n",
    "    row[1024:2048].reshape(32,32),\n",
    "    row[2048:].reshape(32,32)\n",
    "))"
   ]
  },
  {
   "cell_type": "code",
   "execution_count": 10,
   "metadata": {
    "tags": []
   },
   "outputs": [
    {
     "data": {
      "image/png": "[encoded data removed]",
      "text/plain": [
       "<Figure size 640x480 with 1 Axes>"
      ]
     },
     "metadata": {},
     "output_type": "display_data"
    }
   ],
   "source": [
    "import matplotlib.pyplot as plt\n",
    "plt.imshow(test_image);"
   ]
  },
  {
   "cell_type": "markdown",
   "metadata": {},
   "source": [
    "Looks like a cow! Let's check the label. `dataset_meta` contains label names in order, and `dataset_train` has a list of labels for each row."
   ]
  },
  {
   "cell_type": "code",
   "execution_count": 11,
   "metadata": {
    "tags": []
   },
   "outputs": [
    {
     "data": {
      "text/plain": [
       "19"
      ]
     },
     "execution_count": 11,
     "metadata": {},
     "output_type": "execute_result"
    }
   ],
   "source": [
    "dataset_train[b'fine_labels'][0]"
   ]
  },
  {
   "cell_type": "markdown",
   "metadata": {},
   "source": [
    "Our image has a label of `19`, so let's see what the 19th item is in the list of label names."
   ]
  },
  {
   "cell_type": "code",
   "execution_count": 12,
   "metadata": {
    "tags": []
   },
   "outputs": [
    {
     "name": "stdout",
     "output_type": "stream",
     "text": [
      "b'cattle'\n"
     ]
    }
   ],
   "source": [
    "print(dataset_meta[b'fine_label_names'][19])"
   ]
  },
  {
   "cell_type": "markdown",
   "metadata": {},
   "source": [
    "Ok! 'cattle' sounds about right. By the way, using the previous two lines we can do:"
   ]
  },
  {
   "cell_type": "code",
   "execution_count": 14,
   "metadata": {
    "tags": []
   },
   "outputs": [
    {
     "name": "stdout",
     "output_type": "stream",
     "text": [
      "b'dinosaur'\n"
     ]
    }
   ],
   "source": [
    "n = 1\n",
    "print(dataset_meta[b'fine_label_names'][dataset_train[b'fine_labels'][n]])"
   ]
  },
  {
   "cell_type": "markdown",
   "metadata": {},
   "source": [
    "Now we know how to check labels, is there a way that we can also check file names? `dataset_train` also contains a `b'filenames'` key. Let's see what we have here:"
   ]
  },
  {
   "cell_type": "code",
   "execution_count": 15,
   "metadata": {
    "tags": []
   },
   "outputs": [
    {
     "name": "stdout",
     "output_type": "stream",
     "text": [
      "b'bos_taurus_s_000507.png'\n"
     ]
    }
   ],
   "source": [
    "print(dataset_train[b'filenames'][0])"
   ]
  },
  {
   "cell_type": "markdown",
   "metadata": {},
   "source": [
    "\"Taurus\" is the name of a subspecies of cattle, so this looks like a pretty reasonable filename. To save an image we can also do:"
   ]
  },
  {
   "cell_type": "code",
   "execution_count": 16,
   "metadata": {
    "tags": []
   },
   "outputs": [],
   "source": [
    "plt.imsave(\"file.png\", test_image)"
   ]
  },
  {
   "cell_type": "markdown",
   "metadata": {},
   "source": [
    "Your new PNG file should now appear in the file explorer -- go ahead and pop it open to see!\n",
    "\n",
    "Now that you know how to reshape the images, save them as files, and capture their filenames and labels, let's just capture all the bicycles and motorcycles and save them. Scones Unlimited can use a model that tells these apart to route delivery drivers automatically.\n",
    "\n",
    "In the following cell, identify the label numbers for Bicycles and Motorcycles:"
   ]
  },
  {
   "cell_type": "code",
   "execution_count": 17,
   "metadata": {
    "tags": []
   },
   "outputs": [
    {
     "name": "stdout",
     "output_type": "stream",
     "text": [
      "Index 0: apple\n",
      "Index 1: aquarium_fish\n",
      "Index 2: baby\n",
      "Index 3: bear\n",
      "Index 4: beaver\n",
      "Index 5: bed\n",
      "Index 6: bee\n",
      "Index 7: beetle\n",
      "Index 8: bicycle\n",
      "Index 9: bottle\n",
      "Index 10: bowl\n",
      "Index 11: boy\n",
      "Index 12: bridge\n",
      "Index 13: bus\n",
      "Index 14: butterfly\n",
      "Index 15: camel\n",
      "Index 16: can\n",
      "Index 17: castle\n",
      "Index 18: caterpillar\n",
      "Index 19: cattle\n",
      "Index 20: chair\n",
      "Index 21: chimpanzee\n",
      "Index 22: clock\n",
      "Index 23: cloud\n",
      "Index 24: cockroach\n",
      "Index 25: couch\n",
      "Index 26: crab\n",
      "Index 27: crocodile\n",
      "Index 28: cup\n",
      "Index 29: dinosaur\n",
      "Index 30: dolphin\n",
      "Index 31: elephant\n",
      "Index 32: flatfish\n",
      "Index 33: forest\n",
      "Index 34: fox\n",
      "Index 35: girl\n",
      "Index 36: hamster\n",
      "Index 37: house\n",
      "Index 38: kangaroo\n",
      "Index 39: keyboard\n",
      "Index 40: lamp\n",
      "Index 41: lawn_mower\n",
      "Index 42: leopard\n",
      "Index 43: lion\n",
      "Index 44: lizard\n",
      "Index 45: lobster\n",
      "Index 46: man\n",
      "Index 47: maple_tree\n",
      "Index 48: motorcycle\n",
      "Index 49: mountain\n",
      "Index 50: mouse\n",
      "Index 51: mushroom\n",
      "Index 52: oak_tree\n",
      "Index 53: orange\n",
      "Index 54: orchid\n",
      "Index 55: otter\n",
      "Index 56: palm_tree\n",
      "Index 57: pear\n",
      "Index 58: pickup_truck\n",
      "Index 59: pine_tree\n",
      "Index 60: plain\n",
      "Index 61: plate\n",
      "Index 62: poppy\n",
      "Index 63: porcupine\n",
      "Index 64: possum\n",
      "Index 65: rabbit\n",
      "Index 66: raccoon\n",
      "Index 67: ray\n",
      "Index 68: road\n",
      "Index 69: rocket\n",
      "Index 70: rose\n",
      "Index 71: sea\n",
      "Index 72: seal\n",
      "Index 73: shark\n",
      "Index 74: shrew\n",
      "Index 75: skunk\n",
      "Index 76: skyscraper\n",
      "Index 77: snail\n",
      "Index 78: snake\n",
      "Index 79: spider\n",
      "Index 80: squirrel\n",
      "Index 81: streetcar\n",
      "Index 82: sunflower\n",
      "Index 83: sweet_pepper\n",
      "Index 84: table\n",
      "Index 85: tank\n",
      "Index 86: telephone\n",
      "Index 87: television\n",
      "Index 88: tiger\n",
      "Index 89: tractor\n",
      "Index 90: train\n",
      "Index 91: trout\n",
      "Index 92: tulip\n",
      "Index 93: turtle\n",
      "Index 94: wardrobe\n",
      "Index 95: whale\n",
      "Index 96: willow_tree\n",
      "Index 97: wolf\n",
      "Index 98: woman\n",
      "Index 99: worm\n"
     ]
    }
   ],
   "source": [
    "import pandas as pd\n",
    "\n",
    "# Todo: Filter the dataset_train and dataset_meta objects to find the label numbers for Bicycle and Motorcycles\n",
    "for i, label_name in enumerate(dataset_meta[b'fine_label_names']):\n",
    "    print(f\"Index {i}: {label_name.decode('utf-8')}\")\n",
    "\n"
   ]
  },
  {
   "cell_type": "markdown",
   "metadata": {},
   "source": [
    "Good job! We only need objects with label 8 and 48 -- this drastically simplifies our handling of the data! Below we construct a dataframe for you, and you can safely drop the rows that don't contain observations about bicycles and motorcycles. Fill in the missing lines below to drop all other rows:"
   ]
  },
  {
   "cell_type": "code",
   "execution_count": 42,
   "metadata": {
    "tags": []
   },
   "outputs": [],
   "source": [
    "#Construct the dataframe\n",
    "df_train = pd.DataFrame({\n",
    "    \"filenames\": dataset_train[b'filenames'],\n",
    "    \"labels\": dataset_train[b'fine_labels'],\n",
    "    \"row\": range(len(dataset_train[b'filenames']))\n",
    "})\n",
    "\n",
    "# Drop all rows from df_train where label is not 8 or 48\n",
    "df_train = df_train[(df_train['labels'] == 8) | (df_train['labels'] == 48)]\n",
    "\n",
    "# Decode df_train.filenames so they are regular strings\n",
    "df_train[\"filenames\"] = df_train[\"filenames\"].apply(\n",
    "    lambda x: x.decode(\"utf-8\")\n",
    ")\n",
    "\n",
    "\n",
    "df_test = pd.DataFrame({\n",
    "    \"filenames\": dataset_test[b'filenames'],\n",
    "    \"labels\": dataset_test[b'fine_labels'],\n",
    "    \"row\": range(len(dataset_test[b'filenames']))\n",
    "})\n",
    "\n",
    "# Drop all rows from df_test where label is not 8 or 48\n",
    "df_test = df_test[(df_test['labels'] == 8) | (df_test['labels'] == 48)]\n",
    "\n",
    "# Decode df_test.filenames so they are regular strings\n",
    "df_test[\"filenames\"] = df_test[\"filenames\"].apply(\n",
    "    lambda x: x.decode(\"utf-8\")\n",
    ")"
   ]
  },
  {
   "cell_type": "markdown",
   "metadata": {},
   "source": [
    "Now that the data is filtered for just our classes, we can save all our images."
   ]
  },
  {
   "cell_type": "code",
   "execution_count": 43,
   "metadata": {
    "tags": []
   },
   "outputs": [
    {
     "data": {
      "text/html": [
       "<div>\n",
       "<style scoped>\n",
       "    .dataframe tbody tr th:only-of-type {\n",
       "        vertical-align: middle;\n",
       "    }\n",
       "\n",
       "    .dataframe tbody tr th {\n",
       "        vertical-align: top;\n",
       "    }\n",
       "\n",
       "    .dataframe thead th {\n",
       "        text-align: right;\n",
       "    }\n",
       "</style>\n",
       "<table border=\"1\" class=\"dataframe\">\n",
       "  <thead>\n",
       "    <tr style=\"text-align: right;\">\n",
       "      <th></th>\n",
       "      <th>filenames</th>\n",
       "      <th>labels</th>\n",
       "      <th>row</th>\n",
       "    </tr>\n",
       "  </thead>\n",
       "  <tbody>\n",
       "    <tr>\n",
       "      <th>16</th>\n",
       "      <td>bike_s_000682.png</td>\n",
       "      <td>8</td>\n",
       "      <td>16</td>\n",
       "    </tr>\n",
       "    <tr>\n",
       "      <th>30</th>\n",
       "      <td>bike_s_000127.png</td>\n",
       "      <td>8</td>\n",
       "      <td>30</td>\n",
       "    </tr>\n",
       "    <tr>\n",
       "      <th>130</th>\n",
       "      <td>cycle_s_002598.png</td>\n",
       "      <td>8</td>\n",
       "      <td>130</td>\n",
       "    </tr>\n",
       "    <tr>\n",
       "      <th>152</th>\n",
       "      <td>minibike_s_000824.png</td>\n",
       "      <td>48</td>\n",
       "      <td>152</td>\n",
       "    </tr>\n",
       "    <tr>\n",
       "      <th>195</th>\n",
       "      <td>motorcycle_s_001856.png</td>\n",
       "      <td>48</td>\n",
       "      <td>195</td>\n",
       "    </tr>\n",
       "  </tbody>\n",
       "</table>\n",
       "</div>"
      ],
      "text/plain": [
       "                   filenames  labels  row\n",
       "16         bike_s_000682.png       8   16\n",
       "30         bike_s_000127.png       8   30\n",
       "130       cycle_s_002598.png       8  130\n",
       "152    minibike_s_000824.png      48  152\n",
       "195  motorcycle_s_001856.png      48  195"
      ]
     },
     "execution_count": 43,
     "metadata": {},
     "output_type": "execute_result"
    }
   ],
   "source": [
    "df_train.head(5)"
   ]
  },
  {
   "cell_type": "code",
   "execution_count": 20,
   "metadata": {
    "tags": []
   },
   "outputs": [],
   "source": [
    "!mkdir ./train\n",
    "!mkdir ./test"
   ]
  },
  {
   "cell_type": "markdown",
   "metadata": {},
   "source": [
    "In the previous sections we introduced you to several key snippets of code:\n",
    "\n",
    "1. Grabbing the image data:\n",
    "\n",
    "```python\n",
    "dataset_train[b'data'][0]\n",
    "```\n",
    "\n",
    "2. A simple idiom for stacking the image data into the right shape\n",
    "\n",
    "```python\n",
    "import numpy as np\n",
    "np.dstack((\n",
    "    row[0:1024].reshape(32,32),\n",
    "    row[1024:2048].reshape(32,32),\n",
    "    row[2048:].reshape(32,32)\n",
    "))\n",
    "```\n",
    "\n",
    "3. A simple `matplotlib` utility for saving images\n",
    "\n",
    "```python\n",
    "plt.imsave(path+row['filenames'], target)\n",
    "```\n",
    "\n",
    "Compose these together into a function that saves all the images into the `./test` and `./train` directories. Use the comments in the body of the `save_images` function below to guide your construction of the function:\n"
   ]
  },
  {
   "cell_type": "code",
   "execution_count": 29,
   "metadata": {
    "tags": []
   },
   "outputs": [
    {
     "data": {
      "text/plain": [
       "array([255, 255, 255, ...,  10,  59,  79], dtype=uint8)"
      ]
     },
     "execution_count": 29,
     "metadata": {},
     "output_type": "execute_result"
    }
   ],
   "source": [
    "dataset_train[b'data'][0]"
   ]
  },
  {
   "cell_type": "code",
   "execution_count": null,
   "metadata": {
    "tags": []
   },
   "outputs": [],
   "source": [
    "import os\n",
    "\n",
    "def save_images(df, dataset, save_dir):\n",
    "    \"\"\"Save images from the dataset based on the dataframe information.\n",
    "\n",
    "    Args:\n",
    "    df -- DataFrame containing filenames, labels, and row indices\n",
    "    dataset -- The dataset containing image data\n",
    "    save_dir -- Directory to save images\n",
    "    \"\"\"\n",
    "    for idx, row in df.iterrows():\n",
    "        print(f\"Processing index: {idx}\")  # Debugging: print index\n",
    "        filename = row[\"filenames\"]\n",
    "        \n",
    "        # Grab the image data in row-major form\n",
    "        img_data = dataset[b'data'][row[\"row\"]]\n",
    "        \n",
    "        # Consolidated stacking/reshaping from earlier\n",
    "        target = np.dstack((\n",
    "            img_data[0:1024].reshape(32, 32),\n",
    "            img_data[1024:2048].reshape(32, 32),\n",
    "            img_data[2048:].reshape(32, 32)\n",
    "        ))\n",
    "        \n",
    "        # Save the image\n",
    "        plt.imsave(os.path.join(save_dir, filename), target)\n",
    "        \n",
    "        # Debugging: print confirmation message\n",
    "        print(f\"Saved {filename} to {save_dir}\")\n",
    "\n",
    "# Make directories if they don't exist\n",
    "os.makedirs(\"./train\", exist_ok=True)\n",
    "os.makedirs(\"./test\", exist_ok=True)\n",
    "\n",
    "# Save all images using the save_images function\n",
    "save_images(df_train, dataset_train, \"./train\")\n",
    "save_images(df_test, dataset_test, \"./test\")\n"
   ]
  },
  {
   "cell_type": "markdown",
   "metadata": {},
   "source": [
    "### 3. Load the data\n",
    "\n",
    "Now we can load the data into S3.\n",
    "\n",
    "Using the sagemaker SDK grab the current region, execution role, and bucket."
   ]
  },
  {
   "cell_type": "code",
   "execution_count": 45,
   "metadata": {
    "tags": []
   },
   "outputs": [
    {
     "name": "stdout",
     "output_type": "stream",
     "text": [
      "sagemaker.config INFO - Not applying SDK defaults from location: /etc/xdg/sagemaker/config.yaml\n",
      "sagemaker.config INFO - Not applying SDK defaults from location: /root/.config/sagemaker/config.yaml\n",
      "Default Bucket: sagemaker-us-east-1-259794167043\n",
      "AWS Region: us-east-1\n",
      "RoleArn: arn:aws:iam::259794167043:role/service-role/AmazonSageMaker-ExecutionRole-20240721T203747\n"
     ]
    }
   ],
   "source": [
    "import sagemaker\n",
    "\n",
    "sagemaker_session = sagemaker.Session()\n",
    "\n",
    "bucket= sagemaker_session.default_bucket()\n",
    "print(\"Default Bucket: {}\".format(bucket))\n",
    "\n",
    "region = sagemaker_session.boto_session.region_name\n",
    "print(\"AWS Region: {}\".format(region))\n",
    "\n",
    "role = sagemaker.get_execution_role()\n",
    "print(\"RoleArn: {}\".format(role))"
   ]
  },
  {
   "cell_type": "markdown",
   "metadata": {},
   "source": [
    "With this data we can easily sync your data up into S3!"
   ]
  },
  {
   "cell_type": "code",
   "execution_count": null,
   "metadata": {
    "tags": []
   },
   "outputs": [],
   "source": [
    "import os\n",
    "\n",
    "os.environ[\"DEFAULT_S3_BUCKET\"] = bucket\n",
    "!aws s3 sync ./train s3://${DEFAULT_S3_BUCKET}/train/\n",
    "!aws s3 sync ./test s3://${DEFAULT_S3_BUCKET}/test/"
   ]
  },
  {
   "cell_type": "markdown",
   "metadata": {},
   "source": [
    "And that's it! You can check the bucket and verify that the items were uploaded.\n",
    "\n",
    "## Model Training\n",
    "\n",
    "For Image Classification, Sagemaker [also expects metadata](https://docs.aws.amazon.com/sagemaker/latest/dg/image-classification.html) e.g. in the form of TSV files with labels and filepaths. We can generate these using our Pandas DataFrames from earlier:"
   ]
  },
  {
   "cell_type": "code",
   "execution_count": 49,
   "metadata": {
    "tags": []
   },
   "outputs": [],
   "source": [
    "def to_metadata_file(df, prefix):\n",
    "    df[\"s3_path\"] = df[\"filenames\"]\n",
    "    df[\"labels\"] = df[\"labels\"].apply(lambda x: 0 if x==8 else 1)\n",
    "    return df[[\"row\", \"labels\", \"s3_path\"]].to_csv(\n",
    "        f\"{prefix}.lst\", sep=\"\\t\", index=False, header=False\n",
    "    )\n",
    "    \n",
    "to_metadata_file(df_train.copy(), \"train\")\n",
    "to_metadata_file(df_test.copy(), \"test\")"
   ]
  },
  {
   "cell_type": "markdown",
   "metadata": {},
   "source": [
    "We can also upload our manifest files:"
   ]
  },
  {
   "cell_type": "code",
   "execution_count": 50,
   "metadata": {
    "tags": []
   },
   "outputs": [],
   "source": [
    "import boto3\n",
    "\n",
    "# Upload files\n",
    "boto3.Session().resource('s3').Bucket(\n",
    "    bucket).Object('train.lst').upload_file('./train.lst')\n",
    "boto3.Session().resource('s3').Bucket(\n",
    "    bucket).Object('test.lst').upload_file('./test.lst')"
   ]
  },
  {
   "cell_type": "markdown",
   "metadata": {},
   "source": [
    "Using the `bucket` and `region` info we can get the latest prebuilt container to run our training job, and define an output location on our s3 bucket for the model. Use the `image_uris` function from the SageMaker SDK to retrieve the latest `image-classification` image below:"
   ]
  },
  {
   "cell_type": "code",
   "execution_count": 52,
   "metadata": {
    "tags": []
   },
   "outputs": [
    {
     "name": "stderr",
     "output_type": "stream",
     "text": [
      "Defaulting to the only supported framework/algorithm version: 1. Ignoring framework/algorithm version: latest.\n"
     ]
    }
   ],
   "source": [
    "from sagemaker import image_uris\n",
    "\n",
    "# Use the image_uris function to retrieve the latest 'image-classification' image \n",
    "algo_image = image_uris.retrieve(\n",
    "    framework='image-classification',\n",
    "    region=region,\n",
    "    version='latest'\n",
    ")\n",
    "s3_output_location = f\"s3://{bucket}/models/image_model\""
   ]
  },
  {
   "cell_type": "markdown",
   "metadata": {},
   "source": [
    "We're ready to create an estimator! Create an estimator `img_classifier_model` that uses one instance of `ml.p3.2xlarge`. Ensure that y ou use the output location we defined above - we'll be referring to that later!"
   ]
  },
  {
   "cell_type": "code",
   "execution_count": 53,
   "metadata": {
    "tags": []
   },
   "outputs": [],
   "source": [
    "img_classifier_model=sagemaker.estimator.Estimator(\n",
    "    image_uri=algo_image,\n",
    "    role=role,\n",
    "    instance_count=1,\n",
    "    instance_type='ml.p3.2xlarge',\n",
    "    volume_size=50,\n",
    "    output_path=s3_output_location,\n",
    "    base_job_name='image-classification-job'  \n",
    ")"
   ]
  },
  {
   "cell_type": "markdown",
   "metadata": {},
   "source": [
    "We can also set a few key hyperparameters and define the inputs for our model:"
   ]
  },
  {
   "cell_type": "code",
   "execution_count": 54,
   "metadata": {
    "tags": []
   },
   "outputs": [],
   "source": [
    "img_classifier_model.set_hyperparameters(\n",
    "    image_shape='3,32,32', # TODO: Fill in\n",
    "    num_classes=2, # TODO: Fill in\n",
    "    num_training_samples=len(df_train) # TODO: fill in\n",
    ")"
   ]
  },
  {
   "cell_type": "markdown",
   "metadata": {},
   "source": [
    "The `image-classification` image uses four input channels with very specific input parameters. For convenience, we've provided them below:"
   ]
  },
  {
   "cell_type": "code",
   "execution_count": 55,
   "metadata": {
    "tags": []
   },
   "outputs": [],
   "source": [
    "from sagemaker.debugger import Rule, rule_configs\n",
    "from sagemaker.session import TrainingInput\n",
    "model_inputs = {\n",
    "        \"train\": sagemaker.inputs.TrainingInput(\n",
    "            s3_data=f\"s3://{bucket}/train/\",\n",
    "            content_type=\"application/x-image\"\n",
    "        ),\n",
    "        \"validation\": sagemaker.inputs.TrainingInput(\n",
    "            s3_data=f\"s3://{bucket}/test/\",\n",
    "            content_type=\"application/x-image\"\n",
    "        ),\n",
    "        \"train_lst\": sagemaker.inputs.TrainingInput(\n",
    "            s3_data=f\"s3://{bucket}/train.lst\",\n",
    "            content_type=\"application/x-image\"\n",
    "        ),\n",
    "        \"validation_lst\": sagemaker.inputs.TrainingInput(\n",
    "            s3_data=f\"s3://{bucket}/test.lst\",\n",
    "            content_type=\"application/x-image\"\n",
    "        )\n",
    "}"
   ]
  },
  {
   "cell_type": "markdown",
   "metadata": {},
   "source": [
    "Great, now we can train the model using the model_inputs. In the cell below, call the `fit` method on our model,:"
   ]
  },
  {
   "cell_type": "code",
   "execution_count": 56,
   "metadata": {
    "tags": []
   },
   "outputs": [
    {
     "name": "stderr",
     "output_type": "stream",
     "text": [
      "INFO:sagemaker:Creating training-job with name: image-classification-job-2024-07-21-21-40-48-994\n"
     ]
    },
    {
     "name": "stdout",
     "output_type": "stream",
     "text": [
      "2024-07-21 21:40:49 Starting - Starting the training job...\n",
      "2024-07-21 21:41:15 Starting - Preparing the instances for training...\n",
      "2024-07-21 21:41:46 Downloading - Downloading input data...\n",
      "2024-07-21 21:42:11 Downloading - Downloading the training image..................\n",
      "2024-07-21 21:45:13 Training - Training image download completed. Training in progress....\u001b[34mDocker entrypoint called with argument(s): train\u001b[0m\n",
      "\u001b[34mRunning default environment configuration script\u001b[0m\n",
      "\u001b[34mNvidia gpu devices, drivers and cuda toolkit versions (only available on hosts with GPU):\u001b[0m\n",
      "\u001b[34mSun Jul 21 21:45:38 2024       \u001b[0m\n",
      "\u001b[34m+---------------------------------------------------------------------------------------+\u001b[0m\n",
      "\u001b[34m| NVIDIA-SMI 535.183.01             Driver Version: 535.183.01   CUDA Version: 12.2     |\u001b[0m\n",
      "\u001b[34m|-----------------------------------------+----------------------+----------------------+\u001b[0m\n",
      "\u001b[34m| GPU  Name                 Persistence-M | Bus-Id        Disp.A | Volatile Uncorr. ECC |\u001b[0m\n",
      "\u001b[34m| Fan  Temp   Perf          Pwr:Usage/Cap |         Memory-Usage | GPU-Util  Compute M. |\u001b[0m\n",
      "\u001b[34m|                                         |                      |               MIG M. |\u001b[0m\n",
      "\u001b[34m|=========================================+======================+======================|\u001b[0m\n",
      "\u001b[34m|   0  Tesla V100-SXM2-16GB           On  | 00000000:00:1E.0 Off |                    0 |\u001b[0m\n",
      "\u001b[34m| N/A   42C    P0              27W / 300W |      0MiB / 16384MiB |      0%      Default |\u001b[0m\n",
      "\u001b[34m|                                         |                      |                  N/A |\u001b[0m\n",
      "\u001b[34m+-----------------------------------------+----------------------+----------------------+\n",
      "                                                                                         \u001b[0m\n",
      "\u001b[34m+---------------------------------------------------------------------------------------+\u001b[0m\n",
      "\u001b[34m| Processes:                                                                            |\u001b[0m\n",
      "\u001b[34m|  GPU   GI   CI        PID   Type   Process name                            GPU Memory |\u001b[0m\n",
      "\u001b[34m|        ID   ID                                                             Usage      |\u001b[0m\n",
      "\u001b[34m|=======================================================================================|\u001b[0m\n",
      "\u001b[34m|  No running processes found                                                           |\u001b[0m\n",
      "\u001b[34m+---------------------------------------------------------------------------------------+\u001b[0m\n",
      "\u001b[34mChecking for nvidia driver and cuda compatibility.\u001b[0m\n",
      "\u001b[34mCUDA Compatibility driver provided.\u001b[0m\n",
      "\u001b[34mProceeding with compatibility check between driver, cuda-toolkit and cuda-compat.\u001b[0m\n",
      "\u001b[34mDetected cuda-toolkit version: 11.1.\u001b[0m\n",
      "\u001b[34mDetected cuda-compat version: 455.32.00.\u001b[0m\n",
      "\u001b[34mDetected Nvidia driver version: 535.183.01.\u001b[0m\n",
      "\u001b[34mNvidia driver compatible with cuda-toolkit. Disabling cuda-compat.\u001b[0m\n",
      "\u001b[34m/opt/amazon/lib/python3.8/site-packages/mxnet/model.py:97: SyntaxWarning: \"is\" with a literal. Did you mean \"==\"?\n",
      "  if num_device is 1 and 'dist' not in kvstore:\u001b[0m\n",
      "\u001b[34m[07/21/2024 21:45:42 INFO 140322314409792] Reading default configuration from /opt/amazon/lib/python3.8/site-packages/image_classification/default-input.json: {'use_pretrained_model': 0, 'num_layers': 152, 'epochs': 30, 'learning_rate': 0.1, 'lr_scheduler_factor': 0.1, 'optimizer': 'sgd', 'momentum': 0, 'weight_decay': 0.0001, 'beta_1': 0.9, 'beta_2': 0.999, 'eps': 1e-08, 'gamma': 0.9, 'mini_batch_size': 32, 'image_shape': '3,224,224', 'precision_dtype': 'float32'}\u001b[0m\n",
      "\u001b[34m[07/21/2024 21:45:42 INFO 140322314409792] Merging with provided configuration from /opt/ml/input/config/hyperparameters.json: {'image_shape': '3,32,32', 'num_classes': '2', 'num_training_samples': '1000'}\u001b[0m\n",
      "\u001b[34m[07/21/2024 21:45:42 INFO 140322314409792] Final configuration: {'use_pretrained_model': 0, 'num_layers': 152, 'epochs': 30, 'learning_rate': 0.1, 'lr_scheduler_factor': 0.1, 'optimizer': 'sgd', 'momentum': 0, 'weight_decay': 0.0001, 'beta_1': 0.9, 'beta_2': 0.999, 'eps': 1e-08, 'gamma': 0.9, 'mini_batch_size': 32, 'image_shape': '3,32,32', 'precision_dtype': 'float32', 'num_classes': '2', 'num_training_samples': '1000'}\u001b[0m\n",
      "\u001b[34m[07/21/2024 21:45:42 INFO 140322314409792] Searching for .lst files in /opt/ml/input/data/train_lst.\u001b[0m\n",
      "\u001b[34m[07/21/2024 21:45:42 INFO 140322314409792] Creating record files for train.lst\u001b[0m\n",
      "\u001b[34m[07/21/2024 21:45:42 INFO 140322314409792] Done creating record files...\u001b[0m\n",
      "\u001b[34m[07/21/2024 21:45:42 INFO 140322314409792] Searching for .lst files in /opt/ml/input/data/validation_lst.\u001b[0m\n",
      "\u001b[34m[07/21/2024 21:45:42 INFO 140322314409792] Creating record files for test.lst\u001b[0m\n",
      "\u001b[34m[07/21/2024 21:45:42 INFO 140322314409792] Done creating record files...\u001b[0m\n",
      "\u001b[34m[07/21/2024 21:45:42 INFO 140322314409792] use_pretrained_model: 0\u001b[0m\n",
      "\u001b[34m[07/21/2024 21:45:42 INFO 140322314409792] multi_label: 0\u001b[0m\n",
      "\u001b[34m[07/21/2024 21:45:42 INFO 140322314409792] Performing random weight initialization\u001b[0m\n",
      "\u001b[34m[07/21/2024 21:45:42 INFO 140322314409792] ---- Parameters ----\u001b[0m\n",
      "\u001b[34m[07/21/2024 21:45:42 INFO 140322314409792] num_layers: 152\u001b[0m\n",
      "\u001b[34m[07/21/2024 21:45:42 INFO 140322314409792] data type: <class 'numpy.float32'>\u001b[0m\n",
      "\u001b[34m[07/21/2024 21:45:42 INFO 140322314409792] epochs: 30\u001b[0m\n",
      "\u001b[34m[07/21/2024 21:45:42 INFO 140322314409792] optimizer: sgd\u001b[0m\n",
      "\u001b[34m[07/21/2024 21:45:42 INFO 140322314409792] momentum: 0.9\u001b[0m\n",
      "\u001b[34m[07/21/2024 21:45:42 INFO 140322314409792] weight_decay: 0.0001\u001b[0m\n",
      "\u001b[34m[07/21/2024 21:45:42 INFO 140322314409792] learning_rate: 0.1\u001b[0m\n",
      "\u001b[34m[07/21/2024 21:45:42 INFO 140322314409792] num_training_samples: 1000\u001b[0m\n",
      "\u001b[34m[07/21/2024 21:45:42 INFO 140322314409792] mini_batch_size: 32\u001b[0m\n",
      "\u001b[34m[07/21/2024 21:45:42 INFO 140322314409792] image_shape: 3,32,32\u001b[0m\n",
      "\u001b[34m[07/21/2024 21:45:42 INFO 140322314409792] num_classes: 2\u001b[0m\n",
      "\u001b[34m[07/21/2024 21:45:42 INFO 140322314409792] augmentation_type: None\u001b[0m\n",
      "\u001b[34m[07/21/2024 21:45:42 INFO 140322314409792] kv_store: device\u001b[0m\n",
      "\u001b[34m[07/21/2024 21:45:42 INFO 140322314409792] checkpoint_frequency not set, will store the best model\u001b[0m\n",
      "\u001b[34m[07/21/2024 21:45:42 INFO 140322314409792] --------------------\u001b[0m\n",
      "\u001b[34m/opt/amazon/python3.8/lib/python3.8/subprocess.py:848: RuntimeWarning: line buffering (buffering=1) isn't supported in binary mode, the default buffer size will be used\n",
      "  self.stdout = io.open(c2pread, 'rb', bufsize)\u001b[0m\n",
      "\u001b[34m[07/21/2024 21:45:42 INFO 140322314409792] Setting number of threads: 7\u001b[0m\n",
      "\u001b[34m[21:45:46] /opt/brazil-pkg-cache/packages/AIAlgorithmsMXNet/AIAlgorithmsMXNet-1.4.x_ecl_Cuda_11.1.x.379.0/AL2_x86_64/generic-flavor/src/src/operator/nn/./cudnn/./cudnn_algoreg-inl.h:97: Running performance tests to find the best convolution algorithm, this can take a while... (setting env variable MXNET_CUDNN_AUTOTUNE_DEFAULT to 0 to disable)\u001b[0m\n",
      "\u001b[34m[07/21/2024 21:45:52 INFO 140322314409792] Epoch[0] Batch [20]#011Speed: 123.651 samples/sec#011accuracy=0.559524\u001b[0m\n",
      "\u001b[34m[07/21/2024 21:45:53 INFO 140322314409792] Epoch[0] Train-accuracy=0.552419\u001b[0m\n",
      "\u001b[34m[07/21/2024 21:45:53 INFO 140322314409792] Epoch[0] Time cost=6.790\u001b[0m\n",
      "\u001b[34m[07/21/2024 21:45:54 INFO 140322314409792] Epoch[0] Validation-accuracy=0.536458\u001b[0m\n",
      "\u001b[34m[07/21/2024 21:45:54 INFO 140322314409792] Storing the best model with validation accuracy: 0.536458\u001b[0m\n",
      "\u001b[34m[07/21/2024 21:45:54 INFO 140322314409792] Saved checkpoint to \"/opt/ml/model/image-classification-0001.params\"\u001b[0m\n",
      "\u001b[34m[07/21/2024 21:45:58 INFO 140322314409792] Epoch[1] Batch [20]#011Speed: 185.247 samples/sec#011accuracy=0.660714\u001b[0m\n",
      "\u001b[34m[07/21/2024 21:45:59 INFO 140322314409792] Epoch[1] Train-accuracy=0.668347\u001b[0m\n",
      "\u001b[34m[07/21/2024 21:45:59 INFO 140322314409792] Epoch[1] Time cost=5.084\u001b[0m\n",
      "\u001b[34m[07/21/2024 21:46:00 INFO 140322314409792] Epoch[1] Validation-accuracy=0.500000\u001b[0m\n",
      "\u001b[34m[07/21/2024 21:46:04 INFO 140322314409792] Epoch[2] Batch [20]#011Speed: 185.755 samples/sec#011accuracy=0.693452\u001b[0m\n",
      "\u001b[34m[07/21/2024 21:46:05 INFO 140322314409792] Epoch[2] Train-accuracy=0.677419\u001b[0m\n",
      "\u001b[34m[07/21/2024 21:46:05 INFO 140322314409792] Epoch[2] Time cost=5.068\u001b[0m\n",
      "\u001b[34m[07/21/2024 21:46:06 INFO 140322314409792] Epoch[2] Validation-accuracy=0.729167\u001b[0m\n",
      "\u001b[34m[07/21/2024 21:46:06 INFO 140322314409792] Storing the best model with validation accuracy: 0.729167\u001b[0m\n",
      "\u001b[34m[07/21/2024 21:46:06 INFO 140322314409792] Saved checkpoint to \"/opt/ml/model/image-classification-0003.params\"\u001b[0m\n",
      "\u001b[34m[07/21/2024 21:46:10 INFO 140322314409792] Epoch[3] Batch [20]#011Speed: 191.710 samples/sec#011accuracy=0.723214\u001b[0m\n",
      "\u001b[34m[07/21/2024 21:46:11 INFO 140322314409792] Epoch[3] Train-accuracy=0.744960\u001b[0m\n",
      "\u001b[34m[07/21/2024 21:46:11 INFO 140322314409792] Epoch[3] Time cost=4.963\u001b[0m\n",
      "\u001b[34m[07/21/2024 21:46:12 INFO 140322314409792] Epoch[3] Validation-accuracy=0.745536\u001b[0m\n",
      "\u001b[34m[07/21/2024 21:46:12 INFO 140322314409792] Storing the best model with validation accuracy: 0.745536\u001b[0m\n",
      "\u001b[34m[07/21/2024 21:46:13 INFO 140322314409792] Saved checkpoint to \"/opt/ml/model/image-classification-0004.params\"\u001b[0m\n",
      "\u001b[34m[07/21/2024 21:46:16 INFO 140322314409792] Epoch[4] Batch [20]#011Speed: 189.935 samples/sec#011accuracy=0.761905\u001b[0m\n",
      "\u001b[34m[07/21/2024 21:46:18 INFO 140322314409792] Epoch[4] Train-accuracy=0.763105\u001b[0m\n",
      "\u001b[34m[07/21/2024 21:46:18 INFO 140322314409792] Epoch[4] Time cost=5.009\u001b[0m\n",
      "\u001b[34m[07/21/2024 21:46:18 INFO 140322314409792] Epoch[4] Validation-accuracy=0.791667\u001b[0m\n",
      "\u001b[34m[07/21/2024 21:46:18 INFO 140322314409792] Storing the best model with validation accuracy: 0.791667\u001b[0m\n",
      "\u001b[34m[07/21/2024 21:46:19 INFO 140322314409792] Saved checkpoint to \"/opt/ml/model/image-classification-0005.params\"\u001b[0m\n",
      "\u001b[34m[07/21/2024 21:46:22 INFO 140322314409792] Epoch[5] Batch [20]#011Speed: 191.859 samples/sec#011accuracy=0.787202\u001b[0m\n",
      "\u001b[34m[07/21/2024 21:46:24 INFO 140322314409792] Epoch[5] Train-accuracy=0.774194\u001b[0m\n",
      "\u001b[34m[07/21/2024 21:46:24 INFO 140322314409792] Epoch[5] Time cost=4.955\u001b[0m\n",
      "\u001b[34m[07/21/2024 21:46:24 INFO 140322314409792] Epoch[5] Validation-accuracy=0.786458\u001b[0m\n",
      "\u001b[34m[07/21/2024 21:46:28 INFO 140322314409792] Epoch[6] Batch [20]#011Speed: 191.838 samples/sec#011accuracy=0.773810\u001b[0m\n",
      "\u001b[34m[07/21/2024 21:46:30 INFO 140322314409792] Epoch[6] Train-accuracy=0.754032\u001b[0m\n",
      "\u001b[34m[07/21/2024 21:46:30 INFO 140322314409792] Epoch[6] Time cost=4.981\u001b[0m\n",
      "\u001b[34m[07/21/2024 21:46:30 INFO 140322314409792] Epoch[6] Validation-accuracy=0.666667\u001b[0m\n",
      "\u001b[34m[07/21/2024 21:46:34 INFO 140322314409792] Epoch[7] Batch [20]#011Speed: 191.711 samples/sec#011accuracy=0.761905\u001b[0m\n",
      "\u001b[34m[07/21/2024 21:46:36 INFO 140322314409792] Epoch[7] Train-accuracy=0.756048\u001b[0m\n",
      "\u001b[34m[07/21/2024 21:46:36 INFO 140322314409792] Epoch[7] Time cost=4.969\u001b[0m\n",
      "\u001b[34m[07/21/2024 21:46:36 INFO 140322314409792] Epoch[7] Validation-accuracy=0.691964\u001b[0m\n",
      "\u001b[34m[07/21/2024 21:46:40 INFO 140322314409792] Epoch[8] Batch [20]#011Speed: 188.986 samples/sec#011accuracy=0.767857\u001b[0m\n",
      "\u001b[34m[07/21/2024 21:46:42 INFO 140322314409792] Epoch[8] Train-accuracy=0.773185\u001b[0m\n",
      "\u001b[34m[07/21/2024 21:46:42 INFO 140322314409792] Epoch[8] Time cost=5.042\u001b[0m\n",
      "\u001b[34m[07/21/2024 21:46:42 INFO 140322314409792] Epoch[8] Validation-accuracy=0.776042\u001b[0m\n",
      "\u001b[34m[07/21/2024 21:46:46 INFO 140322314409792] Epoch[9] Batch [20]#011Speed: 189.618 samples/sec#011accuracy=0.805060\u001b[0m\n",
      "\u001b[34m[07/21/2024 21:46:48 INFO 140322314409792] Epoch[9] Train-accuracy=0.802419\u001b[0m\n",
      "\u001b[34m[07/21/2024 21:46:48 INFO 140322314409792] Epoch[9] Time cost=5.024\u001b[0m\n",
      "\u001b[34m[07/21/2024 21:46:48 INFO 140322314409792] Epoch[9] Validation-accuracy=0.786458\u001b[0m\n",
      "\u001b[34m[07/21/2024 21:46:52 INFO 140322314409792] Epoch[10] Batch [20]#011Speed: 192.714 samples/sec#011accuracy=0.812500\u001b[0m\n",
      "\u001b[34m[07/21/2024 21:46:53 INFO 140322314409792] Epoch[10] Train-accuracy=0.814516\u001b[0m\n",
      "\u001b[34m[07/21/2024 21:46:53 INFO 140322314409792] Epoch[10] Time cost=4.963\u001b[0m\n",
      "\u001b[34m[07/21/2024 21:46:54 INFO 140322314409792] Epoch[10] Validation-accuracy=0.791667\u001b[0m\n",
      "\u001b[34m[07/21/2024 21:46:58 INFO 140322314409792] Epoch[11] Batch [20]#011Speed: 192.425 samples/sec#011accuracy=0.821429\u001b[0m\n",
      "\u001b[34m[07/21/2024 21:46:59 INFO 140322314409792] Epoch[11] Train-accuracy=0.810484\u001b[0m\n",
      "\u001b[34m[07/21/2024 21:46:59 INFO 140322314409792] Epoch[11] Time cost=4.969\u001b[0m\n",
      "\u001b[34m[07/21/2024 21:47:00 INFO 140322314409792] Epoch[11] Validation-accuracy=0.785714\u001b[0m\n",
      "\u001b[34m[07/21/2024 21:47:04 INFO 140322314409792] Epoch[12] Batch [20]#011Speed: 184.889 samples/sec#011accuracy=0.834821\u001b[0m\n",
      "\u001b[34m[07/21/2024 21:47:05 INFO 140322314409792] Epoch[12] Train-accuracy=0.835685\u001b[0m\n",
      "\u001b[34m[07/21/2024 21:47:05 INFO 140322314409792] Epoch[12] Time cost=5.106\u001b[0m\n",
      "\u001b[34m[07/21/2024 21:47:06 INFO 140322314409792] Epoch[12] Validation-accuracy=0.802083\u001b[0m\n",
      "\u001b[34m[07/21/2024 21:47:06 INFO 140322314409792] Storing the best model with validation accuracy: 0.802083\u001b[0m\n",
      "\u001b[34m[07/21/2024 21:47:07 INFO 140322314409792] Saved checkpoint to \"/opt/ml/model/image-classification-0013.params\"\u001b[0m\n",
      "\u001b[34m[07/21/2024 21:47:10 INFO 140322314409792] Epoch[13] Batch [20]#011Speed: 193.506 samples/sec#011accuracy=0.815476\u001b[0m\n",
      "\u001b[34m[07/21/2024 21:47:12 INFO 140322314409792] Epoch[13] Train-accuracy=0.815524\u001b[0m\n",
      "\u001b[34m[07/21/2024 21:47:12 INFO 140322314409792] Epoch[13] Time cost=4.965\u001b[0m\n",
      "\u001b[34m[07/21/2024 21:47:12 INFO 140322314409792] Epoch[13] Validation-accuracy=0.833333\u001b[0m\n",
      "\u001b[34m[07/21/2024 21:47:12 INFO 140322314409792] Storing the best model with validation accuracy: 0.833333\u001b[0m\n",
      "\u001b[34m[07/21/2024 21:47:13 INFO 140322314409792] Saved checkpoint to \"/opt/ml/model/image-classification-0014.params\"\u001b[0m\n",
      "\u001b[34m[07/21/2024 21:47:16 INFO 140322314409792] Epoch[14] Batch [20]#011Speed: 191.523 samples/sec#011accuracy=0.813988\u001b[0m\n",
      "\u001b[34m[07/21/2024 21:47:18 INFO 140322314409792] Epoch[14] Train-accuracy=0.816532\u001b[0m\n",
      "\u001b[34m[07/21/2024 21:47:18 INFO 140322314409792] Epoch[14] Time cost=4.961\u001b[0m\n",
      "\u001b[34m[07/21/2024 21:47:18 INFO 140322314409792] Epoch[14] Validation-accuracy=0.817708\u001b[0m\n",
      "\u001b[34m[07/21/2024 21:47:22 INFO 140322314409792] Epoch[15] Batch [20]#011Speed: 192.748 samples/sec#011accuracy=0.834821\u001b[0m\n",
      "\u001b[34m[07/21/2024 21:47:24 INFO 140322314409792] Epoch[15] Train-accuracy=0.834677\u001b[0m\n",
      "\u001b[34m[07/21/2024 21:47:24 INFO 140322314409792] Epoch[15] Time cost=4.955\u001b[0m\n",
      "\u001b[34m[07/21/2024 21:47:24 INFO 140322314409792] Epoch[15] Validation-accuracy=0.825893\u001b[0m\n",
      "\u001b[34m[07/21/2024 21:47:28 INFO 140322314409792] Epoch[16] Batch [20]#011Speed: 191.069 samples/sec#011accuracy=0.858631\u001b[0m\n",
      "\u001b[34m[07/21/2024 21:47:29 INFO 140322314409792] Epoch[16] Train-accuracy=0.835685\u001b[0m\n",
      "\u001b[34m[07/21/2024 21:47:29 INFO 140322314409792] Epoch[16] Time cost=4.967\u001b[0m\n",
      "\u001b[34m[07/21/2024 21:47:30 INFO 140322314409792] Epoch[16] Validation-accuracy=0.817708\u001b[0m\n",
      "\u001b[34m[07/21/2024 21:47:34 INFO 140322314409792] Epoch[17] Batch [20]#011Speed: 194.017 samples/sec#011accuracy=0.876488\u001b[0m\n",
      "\u001b[34m[07/21/2024 21:47:35 INFO 140322314409792] Epoch[17] Train-accuracy=0.877016\u001b[0m\n",
      "\u001b[34m[07/21/2024 21:47:35 INFO 140322314409792] Epoch[17] Time cost=4.922\u001b[0m\n",
      "\u001b[34m[07/21/2024 21:47:36 INFO 140322314409792] Epoch[17] Validation-accuracy=0.812500\u001b[0m\n",
      "\u001b[34m[07/21/2024 21:47:40 INFO 140322314409792] Epoch[18] Batch [20]#011Speed: 192.480 samples/sec#011accuracy=0.846726\u001b[0m\n",
      "\u001b[34m[07/21/2024 21:47:41 INFO 140322314409792] Epoch[18] Train-accuracy=0.846774\u001b[0m\n",
      "\u001b[34m[07/21/2024 21:47:41 INFO 140322314409792] Epoch[18] Time cost=4.952\u001b[0m\n",
      "\u001b[34m[07/21/2024 21:47:42 INFO 140322314409792] Epoch[18] Validation-accuracy=0.859375\u001b[0m\n",
      "\u001b[34m[07/21/2024 21:47:42 INFO 140322314409792] Storing the best model with validation accuracy: 0.859375\u001b[0m\n",
      "\u001b[34m[07/21/2024 21:47:42 INFO 140322314409792] Saved checkpoint to \"/opt/ml/model/image-classification-0019.params\"\u001b[0m\n",
      "\u001b[34m[07/21/2024 21:47:46 INFO 140322314409792] Epoch[19] Batch [20]#011Speed: 189.001 samples/sec#011accuracy=0.894345\u001b[0m\n",
      "\u001b[34m[07/21/2024 21:47:47 INFO 140322314409792] Epoch[19] Train-accuracy=0.880040\u001b[0m\n",
      "\u001b[34m[07/21/2024 21:47:47 INFO 140322314409792] Epoch[19] Time cost=5.010\u001b[0m\n",
      "\u001b[34m[07/21/2024 21:47:48 INFO 140322314409792] Epoch[19] Validation-accuracy=0.816964\u001b[0m\n",
      "\u001b[34m[07/21/2024 21:47:52 INFO 140322314409792] Epoch[20] Batch [20]#011Speed: 191.397 samples/sec#011accuracy=0.876488\u001b[0m\n",
      "\u001b[34m[07/21/2024 21:47:53 INFO 140322314409792] Epoch[20] Train-accuracy=0.867944\u001b[0m\n",
      "\u001b[34m[07/21/2024 21:47:53 INFO 140322314409792] Epoch[20] Time cost=4.973\u001b[0m\n",
      "\u001b[34m[07/21/2024 21:47:54 INFO 140322314409792] Epoch[20] Validation-accuracy=0.859375\u001b[0m\n",
      "\u001b[34m[07/21/2024 21:47:58 INFO 140322314409792] Epoch[21] Batch [20]#011Speed: 193.889 samples/sec#011accuracy=0.907738\u001b[0m\n",
      "\u001b[34m[07/21/2024 21:47:59 INFO 140322314409792] Epoch[21] Train-accuracy=0.905242\u001b[0m\n",
      "\u001b[34m[07/21/2024 21:47:59 INFO 140322314409792] Epoch[21] Time cost=4.929\u001b[0m\n",
      "\u001b[34m[07/21/2024 21:48:00 INFO 140322314409792] Epoch[21] Validation-accuracy=0.880208\u001b[0m\n",
      "\u001b[34m[07/21/2024 21:48:00 INFO 140322314409792] Storing the best model with validation accuracy: 0.880208\u001b[0m\n",
      "\u001b[34m[07/21/2024 21:48:00 INFO 140322314409792] Saved checkpoint to \"/opt/ml/model/image-classification-0022.params\"\u001b[0m\n",
      "\u001b[34m[07/21/2024 21:48:04 INFO 140322314409792] Epoch[22] Batch [20]#011Speed: 186.078 samples/sec#011accuracy=0.913690\u001b[0m\n",
      "\u001b[34m[07/21/2024 21:48:06 INFO 140322314409792] Epoch[22] Train-accuracy=0.900202\u001b[0m\n",
      "\u001b[34m[07/21/2024 21:48:06 INFO 140322314409792] Epoch[22] Time cost=5.075\u001b[0m\n",
      "\u001b[34m[07/21/2024 21:48:06 INFO 140322314409792] Epoch[22] Validation-accuracy=0.875000\u001b[0m\n",
      "\u001b[34m[07/21/2024 21:48:10 INFO 140322314409792] Epoch[23] Batch [20]#011Speed: 194.758 samples/sec#011accuracy=0.943452\u001b[0m\n",
      "\u001b[34m[07/21/2024 21:48:11 INFO 140322314409792] Epoch[23] Train-accuracy=0.926411\u001b[0m\n",
      "\u001b[34m[07/21/2024 21:48:11 INFO 140322314409792] Epoch[23] Time cost=4.906\u001b[0m\n",
      "\u001b[34m[07/21/2024 21:48:12 INFO 140322314409792] Epoch[23] Validation-accuracy=0.821429\u001b[0m\n",
      "\u001b[34m[07/21/2024 21:48:16 INFO 140322314409792] Epoch[24] Batch [20]#011Speed: 192.361 samples/sec#011accuracy=0.898810\u001b[0m\n",
      "\u001b[34m[07/21/2024 21:48:17 INFO 140322314409792] Epoch[24] Train-accuracy=0.905242\u001b[0m\n",
      "\u001b[34m[07/21/2024 21:48:17 INFO 140322314409792] Epoch[24] Time cost=4.958\u001b[0m\n",
      "\u001b[34m[07/21/2024 21:48:18 INFO 140322314409792] Epoch[24] Validation-accuracy=0.869792\u001b[0m\n",
      "\u001b[34m[07/21/2024 21:48:22 INFO 140322314409792] Epoch[25] Batch [20]#011Speed: 192.983 samples/sec#011accuracy=0.913690\u001b[0m\n",
      "\u001b[34m[07/21/2024 21:48:23 INFO 140322314409792] Epoch[25] Train-accuracy=0.917339\u001b[0m\n",
      "\u001b[34m[07/21/2024 21:48:23 INFO 140322314409792] Epoch[25] Time cost=4.924\u001b[0m\n",
      "\u001b[34m[07/21/2024 21:48:24 INFO 140322314409792] Epoch[25] Validation-accuracy=0.859375\u001b[0m\n",
      "\u001b[34m[07/21/2024 21:48:27 INFO 140322314409792] Epoch[26] Batch [20]#011Speed: 193.444 samples/sec#011accuracy=0.903274\u001b[0m\n",
      "\u001b[34m[07/21/2024 21:48:29 INFO 140322314409792] Epoch[26] Train-accuracy=0.903226\u001b[0m\n",
      "\u001b[34m[07/21/2024 21:48:29 INFO 140322314409792] Epoch[26] Time cost=4.926\u001b[0m\n",
      "\u001b[34m[07/21/2024 21:48:30 INFO 140322314409792] Epoch[26] Validation-accuracy=0.869792\u001b[0m\n",
      "\u001b[34m[07/21/2024 21:48:33 INFO 140322314409792] Epoch[27] Batch [20]#011Speed: 191.689 samples/sec#011accuracy=0.930060\u001b[0m\n",
      "\u001b[34m[07/21/2024 21:48:35 INFO 140322314409792] Epoch[27] Train-accuracy=0.929435\u001b[0m\n",
      "\u001b[34m[07/21/2024 21:48:35 INFO 140322314409792] Epoch[27] Time cost=4.974\u001b[0m\n",
      "\u001b[34m[07/21/2024 21:48:36 INFO 140322314409792] Epoch[27] Validation-accuracy=0.852679\u001b[0m\n",
      "\n",
      "2024-07-21 21:48:54 Uploading - Uploading generated training model\u001b[34m[07/21/2024 21:48:39 INFO 140322314409792] Epoch[28] Batch [20]#011Speed: 190.937 samples/sec#011accuracy=0.967262\u001b[0m\n",
      "\u001b[34m[07/21/2024 21:48:41 INFO 140322314409792] Epoch[28] Train-accuracy=0.957661\u001b[0m\n",
      "\u001b[34m[07/21/2024 21:48:41 INFO 140322314409792] Epoch[28] Time cost=4.987\u001b[0m\n",
      "\u001b[34m[07/21/2024 21:48:41 INFO 140322314409792] Epoch[28] Validation-accuracy=0.838542\u001b[0m\n",
      "\u001b[34m[07/21/2024 21:48:45 INFO 140322314409792] Epoch[29] Batch [20]#011Speed: 192.270 samples/sec#011accuracy=0.946429\u001b[0m\n",
      "\u001b[34m[07/21/2024 21:48:47 INFO 140322314409792] Epoch[29] Train-accuracy=0.944556\u001b[0m\n",
      "\u001b[34m[07/21/2024 21:48:47 INFO 140322314409792] Epoch[29] Time cost=4.967\u001b[0m\n",
      "\u001b[34m[07/21/2024 21:48:47 INFO 140322314409792] Epoch[29] Validation-accuracy=0.880208\u001b[0m\n",
      "\n",
      "2024-07-21 21:49:12 Completed - Training job completed\n",
      "Training seconds: 446\n",
      "Billable seconds: 446\n"
     ]
    }
   ],
   "source": [
    "## TODO: train your model\n",
    "img_classifier_model.fit(inputs=model_inputs, \n",
    "                         logs=True)"
   ]
  },
  {
   "cell_type": "markdown",
   "metadata": {},
   "source": [
    "If all goes well, you'll end up with a model topping out above `.8` validation accuracy. With only 1000 training samples in the CIFAR dataset, that's pretty good. We could definitely pursue data augmentation & gathering more samples to help us improve further, but for now let's proceed to deploy our model.\n",
    "\n",
    "### Getting ready to deploy\n",
    "\n",
    "To begin with, let's configure Model Monitor to track our deployment. We'll define a `DataCaptureConfig` below:"
   ]
  },
  {
   "cell_type": "code",
   "execution_count": 57,
   "metadata": {
    "tags": []
   },
   "outputs": [],
   "source": [
    "from sagemaker.model_monitor import DataCaptureConfig\n",
    "\n",
    "data_capture_config = DataCaptureConfig(\n",
    "    ## TODO: Set config options\n",
    "    enable_capture=True,\n",
    "    sampling_percentage=100,\n",
    "    destination_s3_uri=f\"s3://{bucket}/data_capture\"\n",
    ")"
   ]
  },
  {
   "cell_type": "markdown",
   "metadata": {},
   "source": [
    "Note the `destination_s3_uri` parameter: At the end of the project, we can explore the `data_capture` directory in S3 to find crucial data about the inputs and outputs Model Monitor has observed on our model endpoint over time.\n",
    "\n",
    "With that done, deploy your model on a single `ml.m5.xlarge` instance with the data capture config attached:"
   ]
  },
  {
   "cell_type": "code",
   "execution_count": 59,
   "metadata": {
    "tags": []
   },
   "outputs": [
    {
     "name": "stderr",
     "output_type": "stream",
     "text": [
      "INFO:sagemaker:Creating model with name: image-classification-job-2024-07-21-21-55-09-157\n",
      "INFO:sagemaker:Creating endpoint-config with name image-classification-job-2024-07-21-21-55-09-157\n",
      "INFO:sagemaker:Creating endpoint with name image-classification-job-2024-07-21-21-55-09-157\n"
     ]
    },
    {
     "name": "stdout",
     "output_type": "stream",
     "text": [
      "-----------!image-classification-job-2024-07-21-21-55-09-157\n"
     ]
    }
   ],
   "source": [
    "deployment = img_classifier_model.deploy(\n",
    "    ## TODO: fill in deployment options\n",
    "    initial_instance_count=1,\n",
    "    instance_type='ml.m5.xlarge',\n",
    "    data_capture_config=data_capture_config\n",
    "    )\n",
    "\n",
    "endpoint = deployment.endpoint_name\n",
    "print(endpoint)"
   ]
  },
  {
   "cell_type": "markdown",
   "metadata": {},
   "source": [
    "Note the endpoint name for later as well.\n",
    "\n",
    "Next, instantiate a Predictor:"
   ]
  },
  {
   "cell_type": "code",
   "execution_count": 60,
   "metadata": {
    "tags": []
   },
   "outputs": [],
   "source": [
    "from sagemaker.predictor import Predictor\n",
    "from sagemaker.serializers import IdentitySerializer\n",
    "\n",
    "predictor = Predictor(endpoint_name=endpoint)\n",
    "predictor.serializer = IdentitySerializer(\"image/png\")"
   ]
  },
  {
   "cell_type": "markdown",
   "metadata": {},
   "source": [
    "In the code snippet below we are going to prepare one of your saved images for prediction. Use the predictor to process the `payload`."
   ]
  },
  {
   "cell_type": "code",
   "execution_count": 61,
   "metadata": {
    "tags": []
   },
   "outputs": [],
   "source": [
    "from sagemaker.serializers import IdentitySerializer\n",
    "import base64\n",
    "\n",
    "predictor.serializer = IdentitySerializer(\"image/png\")\n",
    "with open(\"./test/bicycle_s_001789.png\", \"rb\") as f:\n",
    "    payload = f.read()\n",
    "\n",
    "    \n",
    "inference = predictor.predict(payload)"
   ]
  },
  {
   "cell_type": "markdown",
   "metadata": {},
   "source": [
    "Your `inference` object is an array of two values, the predicted probability value for each of your classes (bicycle and motorcycle respectively.) So, for example, a value of `b'[0.91, 0.09]'` indicates the probability of being a bike is 91% and being a motorcycle is 9%."
   ]
  },
  {
   "cell_type": "code",
   "execution_count": 62,
   "metadata": {
    "tags": []
   },
   "outputs": [
    {
     "name": "stdout",
     "output_type": "stream",
     "text": [
      "b'[0.9422439932823181, 0.057755984365940094]'\n"
     ]
    }
   ],
   "source": [
    "print(inference)"
   ]
  },
  {
   "cell_type": "markdown",
   "metadata": {
    "jp-MarkdownHeadingCollapsed": true,
    "tags": []
   },
   "source": [
    "### Draft Lambdas and Step Function Workflow\n",
    "\n",
    "Your operations team uses Step Functions to orchestrate serverless workflows. One of the nice things about Step Functions is that [workflows can call other workflows](https://docs.aws.amazon.com/step-functions/latest/dg/connect-stepfunctions.html), so the team can easily plug your workflow into the broader production architecture for Scones Unlimited.\n",
    "\n",
    "In this next stage you're going to write and deploy three Lambda functions, and then use the Step Functions visual editor to chain them together! Our functions are going to work with a simple data object:\n",
    "\n",
    "```python\n",
    "{\n",
    "    \"inferences\": [], # Output of predictor.predict\n",
    "    \"s3_key\": \"\", # Source data S3 key\n",
    "    \"s3_bucket\": \"\", # Source data S3 bucket\n",
    "    \"image_data\": \"\"  # base64 encoded string containing the image data\n",
    "}\n",
    "```\n",
    "\n",
    "A good test object that you can use for Lambda tests and Step Function executions, throughout the next section, might look like this:\n",
    "\n",
    "```python\n",
    "{\n",
    "  \"image_data\": \"\",\n",
    "  \"s3_bucket\": MY_BUCKET_NAME, # Fill in with your bucket\n",
    "  \"s3_key\": \"test/bicycle_s_000513.png\"\n",
    "}\n",
    "```\n",
    "\n",
    "Using these fields, your functions can read and write the necessary data to execute your workflow. Let's start with the first function. Your first Lambda function will copy an object from S3, base64 encode it, and then return it to the step function as `image_data` in an event.\n",
    "\n",
    "Go to the Lambda dashboard and create a new Lambda function with a descriptive name like \"serializeImageData\" and select thr 'Python 3.8' runtime. Add the same permissions as the SageMaker role you created earlier. (Reminder: you do this in the Configuration tab under \"Permissions\"). Once you're ready, use the starter code below to craft your Lambda handler:\n",
    "\n",
    "```python\n",
    "import json\n",
    "import boto3\n",
    "import base64\n",
    "\n",
    "s3 = boto3.client('s3')\n",
    "\n",
    "def lambda_handler(event, context):\n",
    "    \"\"\"A function to serialize target data from S3\"\"\"\n",
    "    \n",
    "    # Get the s3 address from the Step Function event input\n",
    "    key = ## TODO: fill in\n",
    "    bucket = ## TODO: fill in\n",
    "    \n",
    "    # Download the data from s3 to /tmp/image.png\n",
    "    ## TODO: fill in\n",
    "    \n",
    "    # We read the data from a file\n",
    "    with open(\"/tmp/image.png\", \"rb\") as f:\n",
    "        image_data = base64.b64encode(f.read())\n",
    "\n",
    "    # Pass the data back to the Step Function\n",
    "    print(\"Event:\", event.keys())\n",
    "    return {\n",
    "        'statusCode': 200,\n",
    "        'body': {\n",
    "            \"image_data\": image_data,\n",
    "            \"s3_bucket\": bucket,\n",
    "            \"s3_key\": key,\n",
    "            \"inferences\": []\n",
    "        }\n",
    "    }\n",
    "```\n",
    "\n",
    "The next function is responsible for the classification part - we're going to take the image output from the previous function, decode it, and then pass inferences back to the the Step Function.\n",
    "\n",
    "Because this Lambda will have runtime dependencies (i.e. the SageMaker SDK) you'll need to package them in your function. *Key reading:* https://docs.aws.amazon.com/lambda/latest/dg/python-package-create.html#python-package-create-with-dependency\n",
    "\n",
    "Create a new Lambda function with the same rights and a descriptive name, then fill in the starter code below for your classifier Lambda.\n",
    "\n",
    "```python\n",
    "import json\n",
    "import sagemaker\n",
    "import base64\n",
    "from sagemaker.serializers import IdentitySerializer\n",
    "\n",
    "# Fill this in with the name of your deployed model\n",
    "ENDPOINT = ## TODO: fill in\n",
    "\n",
    "def lambda_handler(event, context):\n",
    "\n",
    "    # Decode the image data\n",
    "    image = base64.b64decode(## TODO: fill in)\n",
    "\n",
    "    # Instantiate a Predictor\n",
    "    predictor = ## TODO: fill in\n",
    "\n",
    "    # For this model the IdentitySerializer needs to be \"image/png\"\n",
    "    predictor.serializer = IdentitySerializer(\"image/png\")\n",
    "    \n",
    "    # Make a prediction:\n",
    "    inferences = ## TODO: fill in\n",
    "    \n",
    "    # We return the data back to the Step Function    \n",
    "    event[\"inferences\"] = inferences.decode('utf-8')\n",
    "    return {\n",
    "        'statusCode': 200,\n",
    "        'body': json.dumps(event)\n",
    "    }\n",
    "```\n",
    "\n",
    "Finally, we need to filter low-confidence inferences. Define a threshold between 1.00 and 0.000 for your model: what is reasonble for you? If the model predicts at `.70` for it's highest confidence label, do we want to pass that inference along to downstream systems? Make one last Lambda function and tee up the same permissions:\n",
    "\n",
    "```python\n",
    "import json\n",
    "\n",
    "\n",
    "THRESHOLD = .93\n",
    "\n",
    "\n",
    "def lambda_handler(event, context):\n",
    "    \n",
    "    # Grab the inferences from the event\n",
    "    inferences = ## TODO: fill in\n",
    "    \n",
    "    # Check if any values in our inferences are above THRESHOLD\n",
    "    meets_threshold = ## TODO: fill in\n",
    "    \n",
    "    # If our threshold is met, pass our data back out of the\n",
    "    # Step Function, else, end the Step Function with an error\n",
    "    if meets_threshold:\n",
    "        pass\n",
    "    else:\n",
    "        raise(\"THRESHOLD_CONFIDENCE_NOT_MET\")\n",
    "\n",
    "    return {\n",
    "        'statusCode': 200,\n",
    "        'body': json.dumps(event)\n",
    "    }\n",
    "```\n",
    "Once you have tested the lambda functions, save the code for each lambda function in a python script called 'lambda.py'.\n",
    "\n",
    "With your lambdas in place, you can use the Step Functions visual editor to construct a workflow that chains them together. In the Step Functions console you'll have the option to author a Standard step function *Visually*.\n",
    "\n",
    "When the visual editor opens, you'll have many options to add transitions in your workflow. We're going to keep it simple and have just one: to invoke Lambda functions. Add three of them chained together. For each one, you'll be able to select the Lambda functions you just created in the proper order, filter inputs and outputs, and give them descriptive names.\n",
    "\n",
    "Make sure that you:\n",
    "\n",
    "1. Are properly filtering the inputs and outputs of your invokations (e.g. `$.body`)\n",
    "2. Take care to remove the error handling from the last function - it's supposed to \"fail loudly\" for your operations colleagues!\n",
    "\n",
    "Take a screenshot of your working step function in action and export the step function as JSON for your submission package."
   ]
  },
  {
   "cell_type": "markdown",
   "metadata": {},
   "source": [
    "\n",
    "Great! Now you can use the files in `./test` as test files for our workflow. Depending on our threshold, our workflow should reliably pass predictions about images from `./test` on to downstream systems, while erroring out for inferences below our confidence threshold!\n",
    "\n",
    "### Testing and Evaluation\n",
    "\n",
    "Do several step function invokations using data from the `./test` folder. This process should give you confidence that the workflow both *succeeds* AND *fails* as expected. In addition, SageMaker Model Monitor will generate recordings of your data and inferences which we can visualize.\n",
    "\n",
    "Here's a function that can help you generate test inputs for your invokations:"
   ]
  },
  {
   "cell_type": "code",
   "execution_count": 68,
   "metadata": {
    "tags": []
   },
   "outputs": [
    {
     "data": {
      "text/plain": [
       "'{\"image_data\": \"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\", \"s3_bucket\": \"sagemaker-us-east-1-259794167043\", \"s3_key\": \"test/motorbike_s_000333.png\"}'"
      ]
     },
     "execution_count": 68,
     "metadata": {},
     "output_type": "execute_result"
    }
   ],
   "source": [
    "import random\n",
    "import boto3\n",
    "import json\n",
    "import base64\n",
    "\n",
    "def generate_test_case(include_image_data=False):\n",
    "    try:\n",
    "        # Setup S3 in boto3\n",
    "        s3 = boto3.resource('s3')\n",
    "        \n",
    "        # Access the bucket\n",
    "        bucket_instance = s3.Bucket(bucket)\n",
    "        \n",
    "        # Randomly pick from 'test' folder in our bucket\n",
    "        objects = list(bucket_instance.objects.filter(Prefix='test/'))\n",
    "        \n",
    "        # Ensure there are objects in the folder\n",
    "        if not objects:\n",
    "            raise ValueError(\"No objects found in the 'test/' folder of the specified bucket.\")\n",
    "        \n",
    "        # Grab any random object key from that folder!\n",
    "        obj_key = random.choice([x.key for x in objects])\n",
    "        \n",
    "        # Initialize image_data\n",
    "        image_data = \"\"\n",
    "        \n",
    "        if include_image_data:\n",
    "            # Fetch the image object from S3\n",
    "            obj = s3.Object(bucket, obj_key)\n",
    "            image_content = obj.get()['Body'].read()\n",
    "            \n",
    "            # Encode image data to base64\n",
    "            image_data = base64.b64encode(image_content).decode('utf-8')\n",
    "        \n",
    "        return json.dumps({\n",
    "            \"image_data\": image_data,\n",
    "            \"s3_bucket\": bucket,\n",
    "            \"s3_key\": obj_key\n",
    "        })\n",
    "    \n",
    "    except Exception as e:\n",
    "        print(f\"Error generating test case: {e}\")\n",
    "        return json.dumps({\"error\": str(e)})\n",
    "\n",
    "generate_test_case(include_image_data=True)\n"
   ]
  },
  {
   "cell_type": "markdown",
   "metadata": {},
   "source": [
    "In the Step Function dashboard for your new function, you can create new executions and copy in the generated test cases. Do several executions so that you can generate data you can evaluate and visualize.\n",
    "\n",
    "Once you've done several executions, let's visualize the record of our inferences. Pull in the JSONLines data from your inferences like so:"
   ]
  },
  {
   "cell_type": "code",
   "execution_count": 72,
   "metadata": {},
   "outputs": [
    {
     "data": {
      "text/plain": [
       "['captured_data/36-24-341-ccf2a4fc-0534-4683-85d1-22c855adcd31.jsonl']"
      ]
     },
     "execution_count": 72,
     "metadata": {},
     "output_type": "execute_result"
    }
   ],
   "source": [
    "from sagemaker.s3 import S3Downloader\n",
    "\n",
    "# In S3 your data will be saved to a datetime-aware path\n",
    "# Find a path related to a datetime you're interested in\n",
    "data_path = \"s3://sagemaker-us-east-1-259794167043/data_capture/image-classification-job-2024-07-21-21-55-09-157/AllTraffic/2024/07/21/23/36-24-341-ccf2a4fc-0534-4683-85d1-22c855adcd31.jsonl\"\n",
    "\n",
    "S3Downloader.download(data_path, \"captured_data\")\n",
    "\n",
    "# Feel free to repeat this multiple times and pull in more data"
   ]
  },
  {
   "cell_type": "markdown",
   "metadata": {},
   "source": [
    "The data are in JSONLines format, where multiple valid JSON objects are stacked on top of eachother in a single `jsonl` file. We'll import an open-source library, `jsonlines` that was purpose built for parsing this format."
   ]
  },
  {
   "cell_type": "code",
   "execution_count": 73,
   "metadata": {},
   "outputs": [
    {
     "name": "stdout",
     "output_type": "stream",
     "text": [
      "Collecting jsonlines\n",
      "  Downloading jsonlines-4.0.0-py3-none-any.whl.metadata (1.6 kB)\n",
      "Requirement already satisfied: attrs>=19.2.0 in /opt/conda/lib/python3.10/site-packages (from jsonlines) (23.2.0)\n",
      "Downloading jsonlines-4.0.0-py3-none-any.whl (8.7 kB)\n",
      "Installing collected packages: jsonlines\n",
      "Successfully installed jsonlines-4.0.0\n",
      "\u001b[33mWARNING: Running pip as the 'root' user can result in broken permissions and conflicting behaviour with the system package manager. It is recommended to use a virtual environment instead: https://pip.pypa.io/warnings/venv\u001b[0m\u001b[33m\n",
      "\u001b[0m"
     ]
    }
   ],
   "source": [
    "!pip install jsonlines\n",
    "import jsonlines"
   ]
  },
  {
   "cell_type": "markdown",
   "metadata": {},
   "source": [
    "Now we can extract the data from each of the source files:"
   ]
  },
  {
   "cell_type": "code",
   "execution_count": 74,
   "metadata": {},
   "outputs": [],
   "source": [
    "import os\n",
    "\n",
    "# List the file names we downloaded\n",
    "file_handles = os.listdir(\"./captured_data\")\n",
    "\n",
    "# Dump all the data into an array\n",
    "json_data = []\n",
    "for jsonl in file_handles:\n",
    "    with jsonlines.open(f\"./captured_data/{jsonl}\") as f:\n",
    "        json_data.append(f.read())"
   ]
  },
  {
   "cell_type": "markdown",
   "metadata": {},
   "source": [
    "The data should now be a list of dictionaries, with significant nesting. We'll give you an example of some code that grabs data out of the objects and visualizes it:"
   ]
  },
  {
   "cell_type": "code",
   "execution_count": 75,
   "metadata": {},
   "outputs": [
    {
     "data": {
      "text/plain": [
       "([0.9422439932823181, 0.057755984365940094], '2024-07-21T23:36:24Z')"
      ]
     },
     "execution_count": 75,
     "metadata": {},
     "output_type": "execute_result"
    }
   ],
   "source": [
    "# Define how we'll get our data\n",
    "def simple_getter(obj):\n",
    "    inferences = obj[\"captureData\"][\"endpointOutput\"][\"data\"]\n",
    "    timestamp = obj[\"eventMetadata\"][\"inferenceTime\"]\n",
    "    return json.loads(inferences), timestamp\n",
    "\n",
    "simple_getter(json_data[0])"
   ]
  },
  {
   "cell_type": "markdown",
   "metadata": {},
   "source": [
    "Finally, here's an example of a visualization you can build with this data. In this last part, you will take some time and build your own - the captured data has the input images, the resulting inferences, and the timestamps."
   ]
  },
  {
   "cell_type": "code",
   "execution_count": 76,
   "metadata": {},
   "outputs": [
    {
     "name": "stderr",
     "output_type": "stream",
     "text": [
      "INFO:matplotlib.category:Using categorical units to plot a list of strings that are all parsable as floats or dates. If these strings should be plotted as numbers, cast to the appropriate data type before plotting.\n",
      "INFO:matplotlib.category:Using categorical units to plot a list of strings that are all parsable as floats or dates. If these strings should be plotted as numbers, cast to the appropriate data type before plotting.\n"
     ]
    },
    {
     "data": {
      "image/png": "[encoded data removed]",
      "text/plain": [
       "<Figure size 640x480 with 1 Axes>"
      ]
     },
     "metadata": {},
     "output_type": "display_data"
    }
   ],
   "source": [
    "# Populate the data for the x and y axis\n",
    "x = []\n",
    "y = []\n",
    "for obj in json_data:\n",
    "    inference, timestamp = simple_getter(obj)\n",
    "    \n",
    "    y.append(max(inference))\n",
    "    x.append(timestamp)\n",
    "\n",
    "# Todo: here is an visualization example, take some time to build another visual that helps monitor the result\n",
    "# Plot the data\n",
    "plt.scatter(x, y, c=['r' if k<.94 else 'b' for k in y ])\n",
    "plt.axhline(y=0.94, color='g', linestyle='--')\n",
    "plt.ylim(bottom=.88)\n",
    "\n",
    "# Add labels\n",
    "plt.ylabel(\"Confidence\")\n",
    "plt.suptitle(\"Observed Recent Inferences\", size=14)\n",
    "plt.title(\"Pictured with confidence threshold for production use\", size=10)\n",
    "\n",
    "# Give it some pizzaz!\n",
    "plt.style.use(\"Solarize_Light2\")\n",
    "plt.gcf().autofmt_xdate()"
   ]
  },
  {
   "cell_type": "markdown",
   "metadata": {},
   "source": [
    "### Todo: build your own visualization\n"
   ]
  },
  {
   "cell_type": "code",
   "execution_count": 78,
   "metadata": {
    "tags": []
   },
   "outputs": [
    {
     "name": "stderr",
     "output_type": "stream",
     "text": [
      "INFO:matplotlib.category:Using categorical units to plot a list of strings that are all parsable as floats or dates. If these strings should be plotted as numbers, cast to the appropriate data type before plotting.\n",
      "INFO:matplotlib.category:Using categorical units to plot a list of strings that are all parsable as floats or dates. If these strings should be plotted as numbers, cast to the appropriate data type before plotting.\n"
     ]
    },
    {
     "data": {
      "image/png": "[encoded data removed]",
      "text/plain": [
       "<Figure size 1400x800 with 1 Axes>"
      ]
     },
     "metadata": {},
     "output_type": "display_data"
    }
   ],
   "source": [
    "import matplotlib.dates as mdates\n",
    "\n",
    "plt.figure(figsize=(14, 8))\n",
    "\n",
    "# Scatter plot for inferences\n",
    "plt.scatter(x, y, c=['r' if k < 0.94 else 'b' for k in y], alpha=0.6, edgecolors='w', s=100, label='Inferences')\n",
    "\n",
    "# Add a horizontal line for the confidence threshold\n",
    "plt.axhline(y=0.94, color='g', linestyle='--', label='Confidence Threshold')\n",
    "\n",
    "# Format the x-axis to show dates properly\n",
    "plt.gca().xaxis.set_major_formatter(mdates.DateFormatter('%Y-%m-%d %H:%M:%S'))\n",
    "plt.gca().xaxis.set_major_locator(mdates.HourLocator(interval=1))\n",
    "plt.gcf().autofmt_xdate()  # Rotate date labels for better readability\n",
    "\n",
    "# Add labels and title\n",
    "plt.ylabel(\"Inference Confidence\")\n",
    "plt.xlabel(\"Timestamp\")\n",
    "plt.title(\"Model Inferences Over Time with Confidence Threshold\")\n",
    "plt.legend()\n",
    "plt.grid(True)\n",
    "\n",
    "# Customize the plot style\n",
    "plt.style.use(\"ggplot\")\n",
    "\n",
    "# Show plot\n",
    "plt.show()"
   ]
  },
  {
   "cell_type": "markdown",
   "metadata": {},
   "source": [
    "### Congratulations!\n",
    "\n",
    "You've reached the end of the project. In this project you created an event-drivent ML workflow that can be incorporated into the Scones Unlimited production architecture. You used the SageMaker Estimator API to deploy your SageMaker Model and Endpoint, and you used AWS Lambda and Step Functions to orchestrate your ML workflow. Using SageMaker Model Monitor, you instrumented and observed your Endpoint, and at the end of the project you built a visualization to help stakeholders understand the performance of the Endpoint over time. If you're up for it, you can even go further with these stretch goals:\n",
    "\n",
    "* Extend your workflow to incorporate more classes: the CIFAR dataset includes other vehicles that Scones Unlimited can identify with this model.\n",
    "* Modify your event driven workflow: can you rewrite your Lambda functions so that the workflow can process multiple image inputs in parallel? Can the Step Function \"fan out\" to accomodate this new workflow?\n",
    "* Consider the test data generator we provided for you. Can we use it to create a \"dummy data\" generator, to simulate a continuous stream of input data? Or a big paralell load of data?\n",
    "* What if we want to get notified every time our step function errors out? Can we use the Step Functions visual editor in conjunction with a service like SNS to accomplish this? Try it out!\n",
    "\n",
    "\n"
   ]
  }
 ],
 "metadata": {
  "availableInstances": [
   {
    "_defaultOrder": 0,
    "_isFastLaunch": true,
    "category": "General purpose",
    "gpuNum": 0,
    "hideHardwareSpecs": false,
    "memoryGiB": 4,
    "name": "ml.t3.medium",
    "vcpuNum": 2
   },
   {
    "_defaultOrder": 1,
    "_isFastLaunch": false,
    "category": "General purpose",
    "gpuNum": 0,
    "hideHardwareSpecs": false,
    "memoryGiB": 8,
    "name": "ml.t3.large",
    "vcpuNum": 2
   },
   {
    "_defaultOrder": 2,
    "_isFastLaunch": false,
    "category": "General purpose",
    "gpuNum": 0,
    "hideHardwareSpecs": false,
    "memoryGiB": 16,
    "name": "ml.t3.xlarge",
    "vcpuNum": 4
   },
   {
    "_defaultOrder": 3,
    "_isFastLaunch": false,
    "category": "General purpose",
    "gpuNum": 0,
    "hideHardwareSpecs": false,
    "memoryGiB": 32,
    "name": "ml.t3.2xlarge",
    "vcpuNum": 8
   },
   {
    "_defaultOrder": 4,
    "_isFastLaunch": true,
    "category": "General purpose",
    "gpuNum": 0,
    "hideHardwareSpecs": false,
    "memoryGiB": 8,
    "name": "ml.m5.large",
    "vcpuNum": 2
   },
   {
    "_defaultOrder": 5,
    "_isFastLaunch": false,
    "category": "General purpose",
    "gpuNum": 0,
    "hideHardwareSpecs": false,
    "memoryGiB": 16,
    "name": "ml.m5.xlarge",
    "vcpuNum": 4
   },
   {
    "_defaultOrder": 6,
    "_isFastLaunch": false,
    "category": "General purpose",
    "gpuNum": 0,
    "hideHardwareSpecs": false,
    "memoryGiB": 32,
    "name": "ml.m5.2xlarge",
    "vcpuNum": 8
   },
   {
    "_defaultOrder": 7,
    "_isFastLaunch": false,
    "category": "General purpose",
    "gpuNum": 0,
    "hideHardwareSpecs": false,
    "memoryGiB": 64,
    "name": "ml.m5.4xlarge",
    "vcpuNum": 16
   },
   {
    "_defaultOrder": 8,
    "_isFastLaunch": false,
    "category": "General purpose",
    "gpuNum": 0,
    "hideHardwareSpecs": false,
    "memoryGiB": 128,
    "name": "ml.m5.8xlarge",
    "vcpuNum": 32
   },
   {
    "_defaultOrder": 9,
    "_isFastLaunch": false,
    "category": "General purpose",
    "gpuNum": 0,
    "hideHardwareSpecs": false,
    "memoryGiB": 192,
    "name": "ml.m5.12xlarge",
    "vcpuNum": 48
   },
   {
    "_defaultOrder": 10,
    "_isFastLaunch": false,
    "category": "General purpose",
    "gpuNum": 0,
    "hideHardwareSpecs": false,
    "memoryGiB": 256,
    "name": "ml.m5.16xlarge",
    "vcpuNum": 64
   },
   {
    "_defaultOrder": 11,
    "_isFastLaunch": false,
    "category": "General purpose",
    "gpuNum": 0,
    "hideHardwareSpecs": false,
    "memoryGiB": 384,
    "name": "ml.m5.24xlarge",
    "vcpuNum": 96
   },
   {
    "_defaultOrder": 12,
    "_isFastLaunch": false,
    "category": "General purpose",
    "gpuNum": 0,
    "hideHardwareSpecs": false,
    "memoryGiB": 8,
    "name": "ml.m5d.large",
    "vcpuNum": 2
   },
   {
    "_defaultOrder": 13,
    "_isFastLaunch": false,
    "category": "General purpose",
    "gpuNum": 0,
    "hideHardwareSpecs": false,
    "memoryGiB": 16,
    "name": "ml.m5d.xlarge",
    "vcpuNum": 4
   },
   {
    "_defaultOrder": 14,
    "_isFastLaunch": false,
    "category": "General purpose",
    "gpuNum": 0,
    "hideHardwareSpecs": false,
    "memoryGiB": 32,
    "name": "ml.m5d.2xlarge",
    "vcpuNum": 8
   },
   {
    "_defaultOrder": 15,
    "_isFastLaunch": false,
    "category": "General purpose",
    "gpuNum": 0,
    "hideHardwareSpecs": false,
    "memoryGiB": 64,
    "name": "ml.m5d.4xlarge",
    "vcpuNum": 16
   },
   {
    "_defaultOrder": 16,
    "_isFastLaunch": false,
    "category": "General purpose",
    "gpuNum": 0,
    "hideHardwareSpecs": false,
    "memoryGiB": 128,
    "name": "ml.m5d.8xlarge",
    "vcpuNum": 32
   },
   {
    "_defaultOrder": 17,
    "_isFastLaunch": false,
    "category": "General purpose",
    "gpuNum": 0,
    "hideHardwareSpecs": false,
    "memoryGiB": 192,
    "name": "ml.m5d.12xlarge",
    "vcpuNum": 48
   },
   {
    "_defaultOrder": 18,
    "_isFastLaunch": false,
    "category": "General purpose",
    "gpuNum": 0,
    "hideHardwareSpecs": false,
    "memoryGiB": 256,
    "name": "ml.m5d.16xlarge",
    "vcpuNum": 64
   },
   {
    "_defaultOrder": 19,
    "_isFastLaunch": false,
    "category": "General purpose",
    "gpuNum": 0,
    "hideHardwareSpecs": false,
    "memoryGiB": 384,
    "name": "ml.m5d.24xlarge",
    "vcpuNum": 96
   },
   {
    "_defaultOrder": 20,
    "_isFastLaunch": false,
    "category": "General purpose",
    "gpuNum": 0,
    "hideHardwareSpecs": true,
    "memoryGiB": 0,
    "name": "ml.geospatial.interactive",
    "supportedImageNames": [
     "sagemaker-geospatial-v1-0"
    ],
    "vcpuNum": 0
   },
   {
    "_defaultOrder": 21,
    "_isFastLaunch": true,
    "category": "Compute optimized",
    "gpuNum": 0,
    "hideHardwareSpecs": false,
    "memoryGiB": 4,
    "name": "ml.c5.large",
    "vcpuNum": 2
   },
   {
    "_defaultOrder": 22,
    "_isFastLaunch": false,
    "category": "Compute optimized",
    "gpuNum": 0,
    "hideHardwareSpecs": false,
    "memoryGiB": 8,
    "name": "ml.c5.xlarge",
    "vcpuNum": 4
   },
   {
    "_defaultOrder": 23,
    "_isFastLaunch": false,
    "category": "Compute optimized",
    "gpuNum": 0,
    "hideHardwareSpecs": false,
    "memoryGiB": 16,
    "name": "ml.c5.2xlarge",
    "vcpuNum": 8
   },
   {
    "_defaultOrder": 24,
    "_isFastLaunch": false,
    "category": "Compute optimized",
    "gpuNum": 0,
    "hideHardwareSpecs": false,
    "memoryGiB": 32,
    "name": "ml.c5.4xlarge",
    "vcpuNum": 16
   },
   {
    "_defaultOrder": 25,
    "_isFastLaunch": false,
    "category": "Compute optimized",
    "gpuNum": 0,
    "hideHardwareSpecs": false,
    "memoryGiB": 72,
    "name": "ml.c5.9xlarge",
    "vcpuNum": 36
   },
   {
    "_defaultOrder": 26,
    "_isFastLaunch": false,
    "category": "Compute optimized",
    "gpuNum": 0,
    "hideHardwareSpecs": false,
    "memoryGiB": 96,
    "name": "ml.c5.12xlarge",
    "vcpuNum": 48
   },
   {
    "_defaultOrder": 27,
    "_isFastLaunch": false,
    "category": "Compute optimized",
    "gpuNum": 0,
    "hideHardwareSpecs": false,
    "memoryGiB": 144,
    "name": "ml.c5.18xlarge",
    "vcpuNum": 72
   },
   {
    "_defaultOrder": 28,
    "_isFastLaunch": false,
    "category": "Compute optimized",
    "gpuNum": 0,
    "hideHardwareSpecs": false,
    "memoryGiB": 192,
    "name": "ml.c5.24xlarge",
    "vcpuNum": 96
   },
   {
    "_defaultOrder": 29,
    "_isFastLaunch": true,
    "category": "Accelerated computing",
    "gpuNum": 1,
    "hideHardwareSpecs": false,
    "memoryGiB": 16,
    "name": "ml.g4dn.xlarge",
    "vcpuNum": 4
   },
   {
    "_defaultOrder": 30,
    "_isFastLaunch": false,
    "category": "Accelerated computing",
    "gpuNum": 1,
    "hideHardwareSpecs": false,
    "memoryGiB": 32,
    "name": "ml.g4dn.2xlarge",
    "vcpuNum": 8
   },
   {
    "_defaultOrder": 31,
    "_isFastLaunch": false,
    "category": "Accelerated computing",
    "gpuNum": 1,
    "hideHardwareSpecs": false,
    "memoryGiB": 64,
    "name": "ml.g4dn.4xlarge",
    "vcpuNum": 16
   },
   {
    "_defaultOrder": 32,
    "_isFastLaunch": false,
    "category": "Accelerated computing",
    "gpuNum": 1,
    "hideHardwareSpecs": false,
    "memoryGiB": 128,
    "name": "ml.g4dn.8xlarge",
    "vcpuNum": 32
   },
   {
    "_defaultOrder": 33,
    "_isFastLaunch": false,
    "category": "Accelerated computing",
    "gpuNum": 4,
    "hideHardwareSpecs": false,
    "memoryGiB": 192,
    "name": "ml.g4dn.12xlarge",
    "vcpuNum": 48
   },
   {
    "_defaultOrder": 34,
    "_isFastLaunch": false,
    "category": "Accelerated computing",
    "gpuNum": 1,
    "hideHardwareSpecs": false,
    "memoryGiB": 256,
    "name": "ml.g4dn.16xlarge",
    "vcpuNum": 64
   },
   {
    "_defaultOrder": 35,
    "_isFastLaunch": false,
    "category": "Accelerated computing",
    "gpuNum": 1,
    "hideHardwareSpecs": false,
    "memoryGiB": 61,
    "name": "ml.p3.2xlarge",
    "vcpuNum": 8
   },
   {
    "_defaultOrder": 36,
    "_isFastLaunch": false,
    "category": "Accelerated computing",
    "gpuNum": 4,
    "hideHardwareSpecs": false,
    "memoryGiB": 244,
    "name": "ml.p3.8xlarge",
    "vcpuNum": 32
   },
   {
    "_defaultOrder": 37,
    "_isFastLaunch": false,
    "category": "Accelerated computing",
    "gpuNum": 8,
    "hideHardwareSpecs": false,
    "memoryGiB": 488,
    "name": "ml.p3.16xlarge",
    "vcpuNum": 64
   },
   {
    "_defaultOrder": 38,
    "_isFastLaunch": false,
    "category": "Accelerated computing",
    "gpuNum": 8,
    "hideHardwareSpecs": false,
    "memoryGiB": 768,
    "name": "ml.p3dn.24xlarge",
    "vcpuNum": 96
   },
   {
    "_defaultOrder": 39,
    "_isFastLaunch": false,
    "category": "Memory Optimized",
    "gpuNum": 0,
    "hideHardwareSpecs": false,
    "memoryGiB": 16,
    "name": "ml.r5.large",
    "vcpuNum": 2
   },
   {
    "_defaultOrder": 40,
    "_isFastLaunch": false,
    "category": "Memory Optimized",
    "gpuNum": 0,
    "hideHardwareSpecs": false,
    "memoryGiB": 32,
    "name": "ml.r5.xlarge",
    "vcpuNum": 4
   },
   {
    "_defaultOrder": 41,
    "_isFastLaunch": false,
    "category": "Memory Optimized",
    "gpuNum": 0,
    "hideHardwareSpecs": false,
    "memoryGiB": 64,
    "name": "ml.r5.2xlarge",
    "vcpuNum": 8
   },
   {
    "_defaultOrder": 42,
    "_isFastLaunch": false,
    "category": "Memory Optimized",
    "gpuNum": 0,
    "hideHardwareSpecs": false,
    "memoryGiB": 128,
    "name": "ml.r5.4xlarge",
    "vcpuNum": 16
   },
   {
    "_defaultOrder": 43,
    "_isFastLaunch": false,
    "category": "Memory Optimized",
    "gpuNum": 0,
    "hideHardwareSpecs": false,
    "memoryGiB": 256,
    "name": "ml.r5.8xlarge",
    "vcpuNum": 32
   },
   {
    "_defaultOrder": 44,
    "_isFastLaunch": false,
    "category": "Memory Optimized",
    "gpuNum": 0,
    "hideHardwareSpecs": false,
    "memoryGiB": 384,
    "name": "ml.r5.12xlarge",
    "vcpuNum": 48
   },
   {
    "_defaultOrder": 45,
    "_isFastLaunch": false,
    "category": "Memory Optimized",
    "gpuNum": 0,
    "hideHardwareSpecs": false,
    "memoryGiB": 512,
    "name": "ml.r5.16xlarge",
    "vcpuNum": 64
   },
   {
    "_defaultOrder": 46,
    "_isFastLaunch": false,
    "category": "Memory Optimized",
    "gpuNum": 0,
    "hideHardwareSpecs": false,
    "memoryGiB": 768,
    "name": "ml.r5.24xlarge",
    "vcpuNum": 96
   },
   {
    "_defaultOrder": 47,
    "_isFastLaunch": false,
    "category": "Accelerated computing",
    "gpuNum": 1,
    "hideHardwareSpecs": false,
    "memoryGiB": 16,
    "name": "ml.g5.xlarge",
    "vcpuNum": 4
   },
   {
    "_defaultOrder": 48,
    "_isFastLaunch": false,
    "category": "Accelerated computing",
    "gpuNum": 1,
    "hideHardwareSpecs": false,
    "memoryGiB": 32,
    "name": "ml.g5.2xlarge",
    "vcpuNum": 8
   },
   {
    "_defaultOrder": 49,
    "_isFastLaunch": false,
    "category": "Accelerated computing",
    "gpuNum": 1,
    "hideHardwareSpecs": false,
    "memoryGiB": 64,
    "name": "ml.g5.4xlarge",
    "vcpuNum": 16
   },
   {
    "_defaultOrder": 50,
    "_isFastLaunch": false,
    "category": "Accelerated computing",
    "gpuNum": 1,
    "hideHardwareSpecs": false,
    "memoryGiB": 128,
    "name": "ml.g5.8xlarge",
    "vcpuNum": 32
   },
   {
    "_defaultOrder": 51,
    "_isFastLaunch": false,
    "category": "Accelerated computing",
    "gpuNum": 1,
    "hideHardwareSpecs": false,
    "memoryGiB": 256,
    "name": "ml.g5.16xlarge",
    "vcpuNum": 64
   },
   {
    "_defaultOrder": 52,
    "_isFastLaunch": false,
    "category": "Accelerated computing",
    "gpuNum": 4,
    "hideHardwareSpecs": false,
    "memoryGiB": 192,
    "name": "ml.g5.12xlarge",
    "vcpuNum": 48
   },
   {
    "_defaultOrder": 53,
    "_isFastLaunch": false,
    "category": "Accelerated computing",
    "gpuNum": 4,
    "hideHardwareSpecs": false,
    "memoryGiB": 384,
    "name": "ml.g5.24xlarge",
    "vcpuNum": 96
   },
   {
    "_defaultOrder": 54,
    "_isFastLaunch": false,
    "category": "Accelerated computing",
    "gpuNum": 8,
    "hideHardwareSpecs": false,
    "memoryGiB": 768,
    "name": "ml.g5.48xlarge",
    "vcpuNum": 192
   },
   {
    "_defaultOrder": 55,
    "_isFastLaunch": false,
    "category": "Accelerated computing",
    "gpuNum": 8,
    "hideHardwareSpecs": false,
    "memoryGiB": 1152,
    "name": "ml.p4d.24xlarge",
    "vcpuNum": 96
   },
   {
    "_defaultOrder": 56,
    "_isFastLaunch": false,
    "category": "Accelerated computing",
    "gpuNum": 8,
    "hideHardwareSpecs": false,
    "memoryGiB": 1152,
    "name": "ml.p4de.24xlarge",
    "vcpuNum": 96
   },
   {
    "_defaultOrder": 57,
    "_isFastLaunch": false,
    "category": "Accelerated computing",
    "gpuNum": 0,
    "hideHardwareSpecs": false,
    "memoryGiB": 32,
    "name": "ml.trn1.2xlarge",
    "vcpuNum": 8
   },
   {
    "_defaultOrder": 58,
    "_isFastLaunch": false,
    "category": "Accelerated computing",
    "gpuNum": 0,
    "hideHardwareSpecs": false,
    "memoryGiB": 512,
    "name": "ml.trn1.32xlarge",
    "vcpuNum": 128
   },
   {
    "_defaultOrder": 59,
    "_isFastLaunch": false,
    "category": "Accelerated computing",
    "gpuNum": 0,
    "hideHardwareSpecs": false,
    "memoryGiB": 512,
    "name": "ml.trn1n.32xlarge",
    "vcpuNum": 128
   }
  ],
  "instance_type": "ml.t3.medium",
  "kernelspec": {
   "display_name": "Python 3 (Data Science 3.0)",
   "language": "python",
   "name": "python3__SAGEMAKER_INTERNAL__arn:aws:sagemaker:us-east-1:081325390199:image/sagemaker-data-science-310-v1"
  },
  "language_info": {
   "codemirror_mode": {
    "name": "ipython",
    "version": 3
   },
   "file_extension": ".py",
   "mimetype": "text/x-python",
   "name": "python",
   "nbconvert_exporter": "python",
   "pygments_lexer": "ipython3",
   "version": "3.10.6"
  }
 },
 "nbformat": 4,
 "nbformat_minor": 4
}
